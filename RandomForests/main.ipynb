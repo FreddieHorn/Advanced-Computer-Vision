{
 "cells": [
  {
   "cell_type": "code",
   "execution_count": 1,
   "metadata": {},
   "outputs": [],
   "source": [
    "%load_ext autoreload\n",
    "%autoreload 2\n",
    "from RandomForest import Forest\n",
    "from Tree import DecisionTree\n",
    "import matplotlib.pyplot as plt\n",
    "import json\n",
    "import cv2\n",
    "from sklearn.metrics import confusion_matrix\n",
    "import os #DELETE IT SO WE DONT LOSE POINTS. ONLY FOR CHECKING DIR\n",
    "import numpy as np\n",
    "\n",
    "\n",
    "\n",
    "IMAGE_WIDTH = 500\n",
    "IMAGE_HEIGHT = 375\n",
    "def read_txt_file(filename):\n",
    "    dict = {}\n",
    "    img_list = []\n",
    "    label_list = []\n",
    "    with open(filename, \"r\") as infile: \n",
    "        for i, line in enumerate(infile):\n",
    "            if i == 0:\n",
    "                numImages, numClasses = line.strip().split(\" \")\n",
    "                continue\n",
    "            key, value = line.strip().split(\" \")\n",
    "            dict[key] = int(value)\n",
    "\n",
    "\n",
    "    return dict, int(numImages), int(numClasses)\n",
    "\n",
    "def extract_img_data(data_dict, DIR, size):\n",
    "    X = np.empty((size, IMAGE_HEIGHT, IMAGE_WIDTH, 3))\n",
    "    Y_labels = []\n",
    "    for i, (key, value) in enumerate(data_dict.items()):\n",
    "        try:\n",
    "            path = os.path.join(DIR,key)\n",
    "            img = cv2.imread(path,cv2.IMREAD_COLOR)\n",
    "            img = cv2.resize(img, (IMAGE_WIDTH,IMAGE_HEIGHT), interpolation = cv2.INTER_AREA)\n",
    "            X[i] = np.array(img)\n",
    "            Y_labels.append(value)\n",
    "        except Exception as e: # catch \"broken\" images where width or height is 0, therefore cannot be resized. \n",
    "            print(str(e))\n",
    "    return X, np.array(Y_labels)"
   ]
  },
  {
   "cell_type": "code",
   "execution_count": 2,
   "metadata": {},
   "outputs": [
    {
     "name": "stdout",
     "output_type": "stream",
     "text": [
      "Get current working directory :  e:\\docs\\Uni\\SoSe 23\\Computer Vision II\\exercises\\cv2\\CV2-ex1\\RandomForests\n"
     ]
    }
   ],
   "source": [
    "\n",
    "# provide your implementation for the sheet 2 here\n",
    "print('Get current working directory : ', os.getcwd())\n",
    "train_dict, train_size, _ = read_txt_file(\"images/images/train_images.txt\") #PATH IS DEPENDENT ON THE WORKING DIR!\n",
    "test_dict, test_size, _ = read_txt_file(\"images/images/test_images.txt\") #PATH IS DEPENDENT ON THE WORKING DIR!\n",
    "X_train, Y_train = extract_img_data(train_dict, \"images/images/train/\", train_size)\n",
    "X_test, Y_test = extract_img_data(test_dict, \"images/images/test/\", test_size)\n",
    "\n",
    "#shuffle (actually not necessary for decision trees unless we're going to only use part of the data)\n",
    "idx = np.random.permutation(len(X_train))\n",
    "X_train,Y_train = X_train[idx], Y_train[idx]"
   ]
  },
  {
   "cell_type": "code",
   "execution_count": 3,
   "metadata": {},
   "outputs": [
    {
     "name": "stdout",
     "output_type": "stream",
     "text": [
      "Computing integral images of all training data...\n"
     ]
    },
    {
     "name": "stderr",
     "output_type": "stream",
     "text": [
      "100%|██████████| 400/400 [07:14<00:00,  1.09s/it]\n"
     ]
    }
   ],
   "source": [
    "from Tree import integral_image\n",
    "from tqdm import tqdm # progress bar\n",
    "print(\"Computing integral images of all training data...\")\n",
    "X_train_integral = np.array([integral_image(img) for img in tqdm(X_train)])"
   ]
  },
  {
   "cell_type": "code",
   "execution_count": 4,
   "metadata": {},
   "outputs": [],
   "source": [
    "tree = DecisionTree(4, X_train_integral, Y_train, \n",
    "                    tree_param = {'depth': 5,\n",
    "                        # 'random_color_values': 10,\n",
    "                        # 'num_pixel_locations': 1000,\n",
    "                        # 'num_patch_sizes': 5,\n",
    "                        # 'num_thresholds': 20,\n",
    "                        'minimum_samples_at_leaf': 4, #  was not specified in task\n",
    "                        },\n",
    "                        mode = 'train')"
   ]
  },
  {
   "cell_type": "code",
   "execution_count": 5,
   "metadata": {},
   "outputs": [
    {
     "name": "stdout",
     "output_type": "stream",
     "text": [
      "Processing new split node...\n"
     ]
    },
    {
     "name": "stderr",
     "output_type": "stream",
     "text": [
      "100%|██████████| 1000/1000 [00:51<00:00, 19.58it/s]\n"
     ]
    },
    {
     "name": "stdout",
     "output_type": "stream",
     "text": [
      "Best IG:  0.38  with params  (array([144, 141]), array([216, 439]), 0, array([242, 357]), 220)\n",
      "Processing new split node...\n"
     ]
    },
    {
     "name": "stderr",
     "output_type": "stream",
     "text": [
      "100%|██████████| 1000/1000 [00:26<00:00, 37.10it/s]\n"
     ]
    },
    {
     "name": "stdout",
     "output_type": "stream",
     "text": [
      "Best IG:  0.37  with params  (array([294,  93]), array([273, 286]), 2, array([172, 151]), -247)\n",
      "Processing new split node...\n"
     ]
    },
    {
     "name": "stderr",
     "output_type": "stream",
     "text": [
      "100%|██████████| 1000/1000 [00:12<00:00, 77.35it/s]\n"
     ]
    },
    {
     "name": "stdout",
     "output_type": "stream",
     "text": [
      "Best IG:  0.18  with params  (array([239, 169]), array([339, 164]), 0, array([ 66, 434]), 98)\n",
      "Processing new split node...\n"
     ]
    },
    {
     "name": "stderr",
     "output_type": "stream",
     "text": [
      "100%|██████████| 1000/1000 [00:01<00:00, 750.19it/s]\n"
     ]
    },
    {
     "name": "stdout",
     "output_type": "stream",
     "text": [
      "Best IG:  0.92  with params  (array([56, 76]), array([166, 102]), 1, array([ 38, 414]), -5)\n",
      "new leaf has  4  labels with distribution  [0. 1. 0. 0.] !\n",
      "new leaf has  2  labels with distribution  [0. 0. 1. 0.] !\n",
      "Processing new split node...\n"
     ]
    },
    {
     "name": "stderr",
     "output_type": "stream",
     "text": [
      "100%|██████████| 1000/1000 [00:12<00:00, 79.88it/s]\n"
     ]
    },
    {
     "name": "stdout",
     "output_type": "stream",
     "text": [
      "Best IG:  0.19  with params  (array([223, 476]), array([112, 389]), 2, array([241, 390]), -63)\n",
      "Processing new split node...\n"
     ]
    },
    {
     "name": "stderr",
     "output_type": "stream",
     "text": [
      "100%|██████████| 1000/1000 [00:09<00:00, 107.81it/s]\n"
     ]
    },
    {
     "name": "stdout",
     "output_type": "stream",
     "text": [
      "Best IG:  0.12  with params  (array([292, 283]), array([ 82, 134]), 0, array([103, 325]), -99)\n",
      "Processing new split node...\n"
     ]
    },
    {
     "name": "stderr",
     "output_type": "stream",
     "text": [
      "100%|██████████| 1000/1000 [00:08<00:00, 114.01it/s]\n"
     ]
    },
    {
     "name": "stdout",
     "output_type": "stream",
     "text": [
      "Best IG:  0.15  with params  (array([188, 191]), array([254, 313]), 2, array([ 75, 201]), 114)\n",
      "new leaf has  64  labels with distribution  [0.       0.       0.015625 0.984375] !\n",
      "new leaf has  2  labels with distribution  [0. 0. 1. 0.] !\n",
      "Processing new split node...\n"
     ]
    },
    {
     "name": "stderr",
     "output_type": "stream",
     "text": [
      "100%|██████████| 1000/1000 [00:01<00:00, 1000.00it/s]\n"
     ]
    },
    {
     "name": "stdout",
     "output_type": "stream",
     "text": [
      "Best IG:  0.81  with params  (array([122, 171]), array([170, 246]), 0, array([350,  89]), 73)\n",
      "new leaf has  3  labels with distribution  [0. 0. 1. 0.] !\n",
      "new leaf has  1  labels with distribution  [0. 0. 0. 1.] !\n",
      "Processing new split node...\n"
     ]
    },
    {
     "name": "stderr",
     "output_type": "stream",
     "text": [
      "100%|██████████| 1000/1000 [00:03<00:00, 293.77it/s]\n"
     ]
    },
    {
     "name": "stdout",
     "output_type": "stream",
     "text": [
      "Best IG:  0.38  with params  (array([ 43, 357]), array([237, 159]), 0, array([40,  6]), 61)\n",
      "Processing new split node...\n"
     ]
    },
    {
     "name": "stderr",
     "output_type": "stream",
     "text": [
      "100%|██████████| 1000/1000 [00:01<00:00, 716.33it/s]\n"
     ]
    },
    {
     "name": "stdout",
     "output_type": "stream",
     "text": [
      "Best IG:  0.59  with params  (array([ 32, 121]), array([126, 137]), 0, array([374, 460]), 37)\n",
      "new leaf has  6  labels with distribution  [0. 0. 1. 0.] !\n",
      "new leaf has  1  labels with distribution  [0. 1. 0. 0.] !\n",
      "Processing new split node...\n"
     ]
    },
    {
     "name": "stderr",
     "output_type": "stream",
     "text": [
      "100%|██████████| 1000/1000 [00:02<00:00, 392.62it/s]\n"
     ]
    },
    {
     "name": "stdout",
     "output_type": "stream",
     "text": [
      "Best IG:  0.49  with params  (array([197, 234]), array([323, 359]), 1, array([228, 318]), 65)\n",
      "new leaf has  13  labels with distribution  [0.07692308 0.07692308 0.07692308 0.76923077] !\n",
      "new leaf has  3  labels with distribution  [0. 0. 1. 0.] !\n",
      "Processing new split node...\n"
     ]
    },
    {
     "name": "stderr",
     "output_type": "stream",
     "text": [
      "100%|██████████| 1000/1000 [00:14<00:00, 70.58it/s]\n"
     ]
    },
    {
     "name": "stdout",
     "output_type": "stream",
     "text": [
      "Best IG:  0.32  with params  (array([104, 443]), array([248, 480]), 0, array([112, 237]), -149)\n",
      "Processing new split node...\n"
     ]
    },
    {
     "name": "stderr",
     "output_type": "stream",
     "text": [
      "100%|██████████| 1000/1000 [00:11<00:00, 84.55it/s]\n"
     ]
    },
    {
     "name": "stdout",
     "output_type": "stream",
     "text": [
      "Best IG:  0.17  with params  (array([  3, 368]), array([294, 282]), 0, array([140, 393]), -151)\n",
      "Processing new split node...\n"
     ]
    },
    {
     "name": "stderr",
     "output_type": "stream",
     "text": [
      "100%|██████████| 1000/1000 [00:01<00:00, 873.36it/s]\n"
     ]
    },
    {
     "name": "stdout",
     "output_type": "stream",
     "text": [
      "Best IG:  0.97  with params  (array([105, 354]), array([242, 262]), 1, array([215, 311]), -220)\n",
      "new leaf has  2  labels with distribution  [0. 1. 0. 0.] !\n",
      "new leaf has  3  labels with distribution  [1. 0. 0. 0.] !\n",
      "Processing new split node...\n"
     ]
    },
    {
     "name": "stderr",
     "output_type": "stream",
     "text": [
      "100%|██████████| 1000/1000 [00:11<00:00, 85.24it/s]\n"
     ]
    },
    {
     "name": "stdout",
     "output_type": "stream",
     "text": [
      "Best IG:  0.11  with params  (array([118, 379]), array([166, 432]), 0, array([350, 441]), 39)\n",
      "Processing new split node...\n"
     ]
    },
    {
     "name": "stderr",
     "output_type": "stream",
     "text": [
      "100%|██████████| 1000/1000 [00:05<00:00, 167.42it/s]\n"
     ]
    },
    {
     "name": "stdout",
     "output_type": "stream",
     "text": [
      "Best IG:  0.13  with params  (array([170,  37]), array([51, 89]), 2, array([268,  42]), -12)\n",
      "new leaf has  24  labels with distribution  [0.   0.   0.75 0.25] !\n",
      "new leaf has  20  labels with distribution  [0. 0. 1. 0.] !\n",
      "Processing new split node...\n"
     ]
    },
    {
     "name": "stderr",
     "output_type": "stream",
     "text": [
      "100%|██████████| 1000/1000 [00:05<00:00, 175.87it/s]\n"
     ]
    },
    {
     "name": "stdout",
     "output_type": "stream",
     "text": [
      "Best IG:  0.28  with params  (array([149,  18]), array([286, 484]), 1, array([354,   1]), 209)\n",
      "new leaf has  32  labels with distribution  [0.125  0.     0.8125 0.0625] !\n",
      "new leaf has  9  labels with distribution  [0.         0.44444444 0.44444444 0.11111111] !\n",
      "Processing new split node...\n"
     ]
    },
    {
     "name": "stderr",
     "output_type": "stream",
     "text": [
      "100%|██████████| 1000/1000 [00:02<00:00, 359.71it/s]\n"
     ]
    },
    {
     "name": "stdout",
     "output_type": "stream",
     "text": [
      "Best IG:  0.65  with params  (array([248, 419]), array([229, 222]), 1, array([111, 448]), -166)\n",
      "new leaf has  15  labels with distribution  [0. 1. 0. 0.] !\n",
      "new leaf has  3  labels with distribution  [0.33333333 0.         0.66666667 0.        ] !\n",
      "Processing new split node...\n"
     ]
    },
    {
     "name": "stderr",
     "output_type": "stream",
     "text": [
      "100%|██████████| 1000/1000 [00:24<00:00, 40.18it/s]\n"
     ]
    },
    {
     "name": "stdout",
     "output_type": "stream",
     "text": [
      "Best IG:  0.37  with params  (array([126, 310]), array([ 13, 244]), 1, array([312, 449]), -139)\n",
      "Processing new split node...\n"
     ]
    },
    {
     "name": "stderr",
     "output_type": "stream",
     "text": [
      "100%|██████████| 1000/1000 [00:14<00:00, 68.49it/s]\n"
     ]
    },
    {
     "name": "stdout",
     "output_type": "stream",
     "text": [
      "Best IG:  0.26  with params  (array([274,   4]), array([ 67, 239]), 2, array([374, 129]), -108)\n",
      "Processing new split node...\n"
     ]
    },
    {
     "name": "stderr",
     "output_type": "stream",
     "text": [
      "100%|██████████| 1000/1000 [00:03<00:00, 326.80it/s]\n"
     ]
    },
    {
     "name": "stdout",
     "output_type": "stream",
     "text": [
      "Best IG:  0.62  with params  (array([ 27, 374]), array([201, 206]), 1, array([148,  98]), 21)\n",
      "Processing new split node...\n"
     ]
    },
    {
     "name": "stderr",
     "output_type": "stream",
     "text": [
      "100%|██████████| 1000/1000 [00:01<00:00, 979.43it/s]\n"
     ]
    },
    {
     "name": "stdout",
     "output_type": "stream",
     "text": [
      "Best IG:  0.81  with params  (array([340, 443]), array([119, 182]), 0, array([ 25, 133]), -118)\n",
      "new leaf has  3  labels with distribution  [0. 0. 1. 0.] !\n",
      "new leaf has  1  labels with distribution  [0. 1. 0. 0.] !\n",
      "Processing new split node...\n"
     ]
    },
    {
     "name": "stderr",
     "output_type": "stream",
     "text": [
      "100%|██████████| 1000/1000 [00:02<00:00, 392.62it/s]\n"
     ]
    },
    {
     "name": "stdout",
     "output_type": "stream",
     "text": [
      "Best IG:  0.39  with params  (array([125, 365]), array([361, 417]), 2, array([ 18, 109]), 82)\n",
      "Processing new split node...\n"
     ]
    },
    {
     "name": "stderr",
     "output_type": "stream",
     "text": [
      "100%|██████████| 1000/1000 [00:01<00:00, 875.66it/s]\n"
     ]
    },
    {
     "name": "stdout",
     "output_type": "stream",
     "text": [
      "Best IG:  0.97  with params  (array([195, 182]), array([286,  46]), 1, array([ 53, 141]), 62)\n",
      "new leaf has  3  labels with distribution  [1. 0. 0. 0.] !\n",
      "new leaf has  2  labels with distribution  [0.  0.5 0.  0.5] !\n",
      "Processing new split node...\n"
     ]
    },
    {
     "name": "stderr",
     "output_type": "stream",
     "text": [
      "100%|██████████| 1000/1000 [00:01<00:00, 529.66it/s]\n"
     ]
    },
    {
     "name": "stdout",
     "output_type": "stream",
     "text": [
      "Best IG:  0.44  with params  (array([149, 164]), array([363, 451]), 2, array([175, 301]), -255)\n",
      "new leaf has  1  labels with distribution  [1. 0. 0. 0.] !\n",
      "new leaf has  10  labels with distribution  [0. 0. 0. 1.] !\n",
      "Processing new split node...\n"
     ]
    },
    {
     "name": "stderr",
     "output_type": "stream",
     "text": [
      "100%|██████████| 1000/1000 [00:12<00:00, 83.06it/s]\n"
     ]
    },
    {
     "name": "stdout",
     "output_type": "stream",
     "text": [
      "Best IG:  0.21  with params  (array([ 16, 408]), array([257, 418]), 0, array([148, 185]), -176)\n",
      "Processing new split node...\n"
     ]
    },
    {
     "name": "stderr",
     "output_type": "stream",
     "text": [
      "100%|██████████| 1000/1000 [00:11<00:00, 88.53it/s]\n"
     ]
    },
    {
     "name": "stdout",
     "output_type": "stream",
     "text": [
      "Best IG:  0.17  with params  (array([286, 364]), array([205,  75]), 1, array([226, 406]), -76)\n",
      "Processing new split node...\n"
     ]
    },
    {
     "name": "stderr",
     "output_type": "stream",
     "text": [
      "100%|██████████| 1000/1000 [00:10<00:00, 97.71it/s]\n"
     ]
    },
    {
     "name": "stdout",
     "output_type": "stream",
     "text": [
      "Best IG:  0.09  with params  (array([369, 268]), array([212, 357]), 2, array([216, 329]), -187)\n",
      "new leaf has  50  labels with distribution  [1. 0. 0. 0.] !\n",
      "new leaf has  25  labels with distribution  [0.84 0.04 0.04 0.08] !\n",
      "Processing new split node...\n"
     ]
    },
    {
     "name": "stderr",
     "output_type": "stream",
     "text": [
      "100%|██████████| 1000/1000 [00:01<00:00, 520.56it/s]\n"
     ]
    },
    {
     "name": "stdout",
     "output_type": "stream",
     "text": [
      "Best IG:  0.68  with params  (array([125,  63]), array([  0, 140]), 0, array([ 28, 120]), -39)\n",
      "new leaf has  2  labels with distribution  [0. 0. 1. 0.] !\n",
      "new leaf has  9  labels with distribution  [0.55555556 0.44444444 0.         0.        ] !\n",
      "Processing new split node...\n"
     ]
    },
    {
     "name": "stderr",
     "output_type": "stream",
     "text": [
      "100%|██████████| 1000/1000 [00:01<00:00, 738.01it/s]\n"
     ]
    },
    {
     "name": "stdout",
     "output_type": "stream",
     "text": [
      "Best IG:  0.65  with params  (array([367, 128]), array([177, 204]), 0, array([  4, 343]), -115)\n",
      "new leaf has  1  labels with distribution  [0. 0. 0. 1.] !\n",
      "new leaf has  5  labels with distribution  [0. 1. 0. 0.] !\n",
      "Processing new split node...\n"
     ]
    },
    {
     "name": "stderr",
     "output_type": "stream",
     "text": [
      "100%|██████████| 1000/1000 [00:10<00:00, 93.11it/s]\n"
     ]
    },
    {
     "name": "stdout",
     "output_type": "stream",
     "text": [
      "Best IG:  0.32  with params  (array([275, 438]), array([222, 144]), 0, array([147, 214]), -112)\n",
      "Processing new split node...\n"
     ]
    },
    {
     "name": "stderr",
     "output_type": "stream",
     "text": [
      "100%|██████████| 1000/1000 [00:06<00:00, 157.93it/s]\n"
     ]
    },
    {
     "name": "stdout",
     "output_type": "stream",
     "text": [
      "Best IG:  0.11  with params  (array([235, 168]), array([ 59, 465]), 2, array([254, 461]), 212)\n",
      "new leaf has  2  labels with distribution  [0.5 0.5 0.  0. ] !\n",
      "new leaf has  45  labels with distribution  [0. 1. 0. 0.] !\n",
      "Processing new split node...\n"
     ]
    },
    {
     "name": "stderr",
     "output_type": "stream",
     "text": [
      "100%|██████████| 1000/1000 [00:04<00:00, 209.42it/s]\n"
     ]
    },
    {
     "name": "stdout",
     "output_type": "stream",
     "text": [
      "Best IG:  0.42  with params  (array([254, 120]), array([288,  24]), 1, array([190, 113]), 251)\n",
      "Processing new split node...\n"
     ]
    },
    {
     "name": "stderr",
     "output_type": "stream",
     "text": [
      "100%|██████████| 1000/1000 [00:02<00:00, 398.57it/s]\n"
     ]
    },
    {
     "name": "stdout",
     "output_type": "stream",
     "text": [
      "Best IG:  0.34  with params  (array([61, 51]), array([ 56, 388]), 0, array([221,  72]), 51)\n",
      "new leaf has  1  labels with distribution  [0. 0. 1. 0.] !\n",
      "Processing new split node...\n"
     ]
    },
    {
     "name": "stderr",
     "output_type": "stream",
     "text": [
      "100%|██████████| 1000/1000 [00:02<00:00, 420.52it/s]\n"
     ]
    },
    {
     "name": "stdout",
     "output_type": "stream",
     "text": [
      "Best IG:  0.38  with params  (array([100,  32]), array([ 88, 155]), 2, array([332, 283]), -11)\n",
      "new leaf has  3  labels with distribution  [0.66666667 0.33333333 0.         0.        ] !\n",
      "new leaf has  12  labels with distribution  [0. 1. 0. 0.] !\n",
      "Processing new split node...\n"
     ]
    },
    {
     "name": "stderr",
     "output_type": "stream",
     "text": [
      "100%|██████████| 1000/1000 [00:02<00:00, 358.94it/s]\n"
     ]
    },
    {
     "name": "stdout",
     "output_type": "stream",
     "text": [
      "Best IG:  0.61  with params  (array([ 22, 117]), array([370, 273]), 2, array([332, 266]), 238)\n",
      "Processing new split node...\n"
     ]
    },
    {
     "name": "stderr",
     "output_type": "stream",
     "text": [
      "100%|██████████| 1000/1000 [00:02<00:00, 436.87it/s]\n"
     ]
    },
    {
     "name": "stdout",
     "output_type": "stream",
     "text": [
      "Best IG:  0.42  with params  (array([100, 123]), array([ 49, 319]), 0, array([350,  65]), -38)\n",
      "new leaf has  6  labels with distribution  [0.16666667 0.         0.66666667 0.16666667] !\n",
      "new leaf has  8  labels with distribution  [0.875 0.    0.125 0.   ] !\n",
      "Processing new split node...\n"
     ]
    },
    {
     "name": "stderr",
     "output_type": "stream",
     "text": [
      "100%|██████████| 1000/1000 [00:00<00:00, 1005.04it/s]"
     ]
    },
    {
     "name": "stdout",
     "output_type": "stream",
     "text": [
      "Best IG:  1.0  with params  (array([291, 492]), array([106, 359]), 2, array([125, 291]), -141)\n",
      "new leaf has  2  labels with distribution  [0. 1. 0. 0.] !\n",
      "new leaf has  2  labels with distribution  [0. 0. 0. 1.] !\n"
     ]
    },
    {
     "name": "stderr",
     "output_type": "stream",
     "text": [
      "\n"
     ]
    }
   ],
   "source": [
    "tree.train()"
   ]
  },
  {
   "cell_type": "code",
   "execution_count": 6,
   "metadata": {},
   "outputs": [
    {
     "name": "stdout",
     "output_type": "stream",
     "text": [
      "Accuracy on test set for the single tree:  0.8\n"
     ]
    }
   ],
   "source": [
    "# evaluate on test data\n",
    "\n",
    "s = 0\n",
    "for i, img in enumerate(X_test):\n",
    "    y_pred = np.argmax(tree.predict(X_test[i]))\n",
    "    y_real = Y_test[i]\n",
    "    if y_real == y_pred:\n",
    "        s += 1 \n",
    "accuracy = s / len(X_test)\n",
    "print(\"Accuracy on test set for the single tree: \", accuracy)\n",
    "\n",
    "\n",
    "# Result is pretty good on the test set,\n",
    "# despite the tree not being pruned (overfitting!!)\n"
   ]
  },
  {
   "cell_type": "code",
   "execution_count": 7,
   "metadata": {},
   "outputs": [
    {
     "name": "stdout",
     "output_type": "stream",
     "text": [
      "TREE NR.  0\n",
      "Processing new split node...\n"
     ]
    },
    {
     "name": "stderr",
     "output_type": "stream",
     "text": [
      "100%|██████████| 1000/1000 [00:51<00:00, 19.40it/s]\n"
     ]
    },
    {
     "name": "stdout",
     "output_type": "stream",
     "text": [
      "Best IG:  0.44  with params  (array([244,  98]), array([206, 167]), 0, array([287, 475]), -157)\n",
      "Processing new split node...\n"
     ]
    },
    {
     "name": "stderr",
     "output_type": "stream",
     "text": [
      "100%|██████████| 1000/1000 [00:27<00:00, 36.56it/s]\n"
     ]
    },
    {
     "name": "stdout",
     "output_type": "stream",
     "text": [
      "Best IG:  0.4  with params  (array([245, 497]), array([187, 316]), 0, array([114, 234]), -215)\n",
      "Processing new split node...\n"
     ]
    },
    {
     "name": "stderr",
     "output_type": "stream",
     "text": [
      "100%|██████████| 1000/1000 [00:11<00:00, 88.42it/s]\n"
     ]
    },
    {
     "name": "stdout",
     "output_type": "stream",
     "text": [
      "Best IG:  0.51  with params  (array([348, 493]), array([320, 496]), 1, array([142, 236]), 254)\n",
      "Processing new split node...\n"
     ]
    },
    {
     "name": "stderr",
     "output_type": "stream",
     "text": [
      "100%|██████████| 1000/1000 [00:08<00:00, 123.50it/s]\n"
     ]
    },
    {
     "name": "stdout",
     "output_type": "stream",
     "text": [
      "Best IG:  0.23  with params  (array([ 24, 132]), array([116, 402]), 2, array([37, 20]), 158)\n",
      "new leaf has  3  labels with distribution  [1. 0. 0. 0.] !\n",
      "Processing new split node...\n"
     ]
    },
    {
     "name": "stderr",
     "output_type": "stream",
     "text": [
      "100%|██████████| 1000/1000 [00:07<00:00, 127.32it/s]\n"
     ]
    },
    {
     "name": "stdout",
     "output_type": "stream",
     "text": [
      "Best IG:  0.13  with params  (array([370,  63]), array([347, 269]), 1, array([142, 438]), -222)\n",
      "new leaf has  1  labels with distribution  [1. 0. 0. 0.] !\n",
      "new leaf has  55  labels with distribution  [0. 1. 0. 0.] !\n",
      "Processing new split node...\n"
     ]
    },
    {
     "name": "stderr",
     "output_type": "stream",
     "text": [
      "100%|██████████| 1000/1000 [00:03<00:00, 294.90it/s]\n"
     ]
    },
    {
     "name": "stdout",
     "output_type": "stream",
     "text": [
      "Best IG:  0.17  with params  (array([ 29, 276]), array([151,  49]), 0, array([103, 148]), 45)\n",
      "new leaf has  1  labels with distribution  [0. 1. 0. 0.] !\n",
      "Processing new split node...\n"
     ]
    },
    {
     "name": "stderr",
     "output_type": "stream",
     "text": [
      "100%|██████████| 1000/1000 [00:03<00:00, 301.84it/s]\n"
     ]
    },
    {
     "name": "stdout",
     "output_type": "stream",
     "text": [
      "Best IG:  0.18  with params  (array([210, 153]), array([ 2, 89]), 2, array([373, 323]), -87)\n",
      "new leaf has  20  labels with distribution  [1. 0. 0. 0.] !\n",
      "new leaf has  2  labels with distribution  [0.5 0.5 0.  0. ] !\n",
      "Processing new split node...\n"
     ]
    },
    {
     "name": "stderr",
     "output_type": "stream",
     "text": [
      "100%|██████████| 1000/1000 [00:16<00:00, 58.86it/s]\n"
     ]
    },
    {
     "name": "stdout",
     "output_type": "stream",
     "text": [
      "Best IG:  0.26  with params  (array([ 83, 155]), array([207, 467]), 2, array([145, 483]), 157)\n",
      "Processing new split node...\n"
     ]
    },
    {
     "name": "stderr",
     "output_type": "stream",
     "text": [
      "100%|██████████| 1000/1000 [00:12<00:00, 77.36it/s]\n"
     ]
    },
    {
     "name": "stdout",
     "output_type": "stream",
     "text": [
      "Best IG:  0.23  with params  (array([ 89, 303]), array([ 67, 475]), 2, array([164,  17]), 29)\n",
      "Processing new split node...\n"
     ]
    },
    {
     "name": "stderr",
     "output_type": "stream",
     "text": [
      "100%|██████████| 1000/1000 [00:08<00:00, 122.90it/s]\n"
     ]
    },
    {
     "name": "stdout",
     "output_type": "stream",
     "text": [
      "Best IG:  0.17  with params  (array([112, 172]), array([291, 341]), 0, array([352,  75]), 175)\n",
      "new leaf has  55  labels with distribution  [1. 0. 0. 0.] !\n",
      "new leaf has  3  labels with distribution  [0.33333333 0.         0.         0.66666667] !\n",
      "Processing new split node...\n"
     ]
    },
    {
     "name": "stderr",
     "output_type": "stream",
     "text": [
      "100%|██████████| 1000/1000 [00:05<00:00, 191.17it/s]\n"
     ]
    },
    {
     "name": "stdout",
     "output_type": "stream",
     "text": [
      "Best IG:  0.37  with params  (array([ 93, 460]), array([251, 274]), 1, array([ 51, 390]), -231)\n",
      "Processing new split node...\n"
     ]
    },
    {
     "name": "stderr",
     "output_type": "stream",
     "text": [
      "100%|██████████| 1000/1000 [00:03<00:00, 328.95it/s]\n"
     ]
    },
    {
     "name": "stdout",
     "output_type": "stream",
     "text": [
      "Best IG:  0.34  with params  (array([ 76, 110]), array([227, 400]), 0, array([269, 303]), 138)\n",
      "new leaf has  3  labels with distribution  [0.33333333 0.         0.66666667 0.        ] !\n",
      "new leaf has  17  labels with distribution  [0.94117647 0.         0.         0.05882353] !\n",
      "Processing new split node...\n"
     ]
    },
    {
     "name": "stderr",
     "output_type": "stream",
     "text": [
      "100%|██████████| 1000/1000 [00:02<00:00, 369.82it/s]\n"
     ]
    },
    {
     "name": "stdout",
     "output_type": "stream",
     "text": [
      "Best IG:  0.47  with params  (array([ 95, 125]), array([40, 83]), 0, array([ 31, 180]), -25)\n",
      "new leaf has  9  labels with distribution  [0.         0.66666667 0.33333333 0.        ] !\n",
      "new leaf has  8  labels with distribution  [0.625 0.125 0.25  0.   ] !\n",
      "Processing new split node...\n"
     ]
    },
    {
     "name": "stderr",
     "output_type": "stream",
     "text": [
      "100%|██████████| 1000/1000 [00:04<00:00, 216.40it/s]\n"
     ]
    },
    {
     "name": "stdout",
     "output_type": "stream",
     "text": [
      "Best IG:  0.47  with params  (array([105, 433]), array([204, 428]), 0, array([345, 188]), -169)\n",
      "Processing new split node...\n"
     ]
    },
    {
     "name": "stderr",
     "output_type": "stream",
     "text": [
      "100%|██████████| 1000/1000 [00:02<00:00, 352.24it/s]\n"
     ]
    },
    {
     "name": "stdout",
     "output_type": "stream",
     "text": [
      "Best IG:  0.96  with params  (array([78, 97]), array([156, 475]), 2, array([367,  19]), 11)\n",
      "new leaf has  11  labels with distribution  [1. 0. 0. 0.] !\n",
      "new leaf has  7  labels with distribution  [0. 0. 0. 1.] !\n",
      "Processing new split node...\n"
     ]
    },
    {
     "name": "stderr",
     "output_type": "stream",
     "text": [
      "100%|██████████| 1000/1000 [00:02<00:00, 433.66it/s]\n"
     ]
    },
    {
     "name": "stdout",
     "output_type": "stream",
     "text": [
      "Best IG:  0.37  with params  (array([  8, 491]), array([279, 491]), 0, array([ 31, 350]), -36)\n",
      "new leaf has  7  labels with distribution  [0. 0. 0. 1.] !\n",
      "Processing new split node...\n"
     ]
    },
    {
     "name": "stderr",
     "output_type": "stream",
     "text": [
      "100%|██████████| 1000/1000 [00:01<00:00, 698.32it/s]\n"
     ]
    },
    {
     "name": "stdout",
     "output_type": "stream",
     "text": [
      "Best IG:  0.99  with params  (array([78, 76]), array([288, 100]), 2, array([119, 418]), 18)\n",
      "new leaf has  4  labels with distribution  [0. 0. 1. 0.] !\n",
      "new leaf has  3  labels with distribution  [0. 0. 0. 1.] !\n",
      "Processing new split node...\n"
     ]
    },
    {
     "name": "stderr",
     "output_type": "stream",
     "text": [
      "100%|██████████| 1000/1000 [00:25<00:00, 39.52it/s]\n"
     ]
    },
    {
     "name": "stdout",
     "output_type": "stream",
     "text": [
      "Best IG:  0.41  with params  (array([316, 396]), array([ 85, 400]), 0, array([  7, 318]), 160)\n",
      "Processing new split node...\n"
     ]
    },
    {
     "name": "stderr",
     "output_type": "stream",
     "text": [
      "100%|██████████| 1000/1000 [00:03<00:00, 259.13it/s]\n"
     ]
    },
    {
     "name": "stdout",
     "output_type": "stream",
     "text": [
      "Best IG:  0.16  with params  (array([189, 108]), array([259,  76]), 0, array([ 53, 170]), -11)\n",
      "new leaf has  2  labels with distribution  [0.  0.5 0.5 0. ] !\n",
      "new leaf has  24  labels with distribution  [0. 1. 0. 0.] !\n",
      "Processing new split node...\n"
     ]
    },
    {
     "name": "stderr",
     "output_type": "stream",
     "text": [
      "100%|██████████| 1000/1000 [00:22<00:00, 45.41it/s]\n"
     ]
    },
    {
     "name": "stdout",
     "output_type": "stream",
     "text": [
      "Best IG:  0.38  with params  (array([275, 350]), array([251,  42]), 2, array([147, 418]), -153)\n",
      "Processing new split node...\n"
     ]
    },
    {
     "name": "stderr",
     "output_type": "stream",
     "text": [
      "100%|██████████| 1000/1000 [00:12<00:00, 82.28it/s]\n"
     ]
    },
    {
     "name": "stdout",
     "output_type": "stream",
     "text": [
      "Best IG:  0.31  with params  (array([51, 14]), array([362, 257]), 0, array([  6, 221]), 96)\n",
      "Processing new split node...\n"
     ]
    },
    {
     "name": "stderr",
     "output_type": "stream",
     "text": [
      "100%|██████████| 1000/1000 [00:04<00:00, 235.79it/s]\n"
     ]
    },
    {
     "name": "stdout",
     "output_type": "stream",
     "text": [
      "Best IG:  0.61  with params  (array([210, 428]), array([ 22, 243]), 1, array([123, 143]), -56)\n",
      "Processing new split node...\n"
     ]
    },
    {
     "name": "stderr",
     "output_type": "stream",
     "text": [
      "100%|██████████| 1000/1000 [00:02<00:00, 350.88it/s]\n"
     ]
    },
    {
     "name": "stdout",
     "output_type": "stream",
     "text": [
      "Best IG:  0.67  with params  (array([245,  16]), array([331, 328]), 1, array([ 33, 256]), 47)\n",
      "new leaf has  14  labels with distribution  [0.         0.         0.92857143 0.07142857] !\n",
      "new leaf has  3  labels with distribution  [0. 1. 0. 0.] !\n",
      "Processing new split node...\n"
     ]
    },
    {
     "name": "stderr",
     "output_type": "stream",
     "text": [
      "100%|██████████| 1000/1000 [00:01<00:00, 514.67it/s]\n"
     ]
    },
    {
     "name": "stdout",
     "output_type": "stream",
     "text": [
      "Best IG:  0.44  with params  (array([287, 385]), array([74, 13]), 1, array([ 45, 486]), -248)\n",
      "new leaf has  1  labels with distribution  [0. 0. 1. 0.] !\n",
      "new leaf has  10  labels with distribution  [0. 0. 0. 1.] !\n",
      "Processing new split node...\n"
     ]
    },
    {
     "name": "stderr",
     "output_type": "stream",
     "text": [
      "100%|██████████| 1000/1000 [00:08<00:00, 118.39it/s]\n"
     ]
    },
    {
     "name": "stdout",
     "output_type": "stream",
     "text": [
      "Best IG:  0.21  with params  (array([129, 160]), array([229, 100]), 0, array([158, 198]), 54)\n",
      "new leaf has  59  labels with distribution  [0. 0. 0. 1.] !\n",
      "new leaf has  2  labels with distribution  [0. 0. 1. 0.] !\n",
      "Processing new split node...\n"
     ]
    },
    {
     "name": "stderr",
     "output_type": "stream",
     "text": [
      "100%|██████████| 1000/1000 [00:10<00:00, 97.73it/s]\n"
     ]
    },
    {
     "name": "stdout",
     "output_type": "stream",
     "text": [
      "Best IG:  0.33  with params  (array([313, 288]), array([303, 385]), 2, array([ 71, 252]), 164)\n",
      "Processing new split node...\n"
     ]
    },
    {
     "name": "stderr",
     "output_type": "stream",
     "text": [
      "100%|██████████| 1000/1000 [00:09<00:00, 108.99it/s]\n"
     ]
    },
    {
     "name": "stdout",
     "output_type": "stream",
     "text": [
      "Best IG:  0.23  with params  (array([234, 292]), array([291, 241]), 0, array([ 27, 459]), -106)\n",
      "Processing new split node...\n"
     ]
    },
    {
     "name": "stderr",
     "output_type": "stream",
     "text": [
      "100%|██████████| 1000/1000 [00:02<00:00, 431.02it/s]\n"
     ]
    },
    {
     "name": "stdout",
     "output_type": "stream",
     "text": [
      "Best IG:  0.71  with params  (array([  3, 200]), array([288, 283]), 2, array([107, 347]), 25)\n",
      "new leaf has  9  labels with distribution  [0.         0.11111111 0.88888889 0.        ] !\n",
      "new leaf has  5  labels with distribution  [0.4 0.6 0.  0. ] !\n",
      "Processing new split node...\n"
     ]
    },
    {
     "name": "stderr",
     "output_type": "stream",
     "text": [
      "100%|██████████| 1000/1000 [00:07<00:00, 131.08it/s]\n"
     ]
    },
    {
     "name": "stdout",
     "output_type": "stream",
     "text": [
      "Best IG:  0.06  with params  (array([144,  64]), array([234, 110]), 2, array([ 18, 145]), -110)\n",
      "new leaf has  6  labels with distribution  [0.         0.         0.83333333 0.16666667] !\n",
      "new leaf has  48  labels with distribution  [0. 0. 1. 0.] !\n",
      "Processing new split node...\n"
     ]
    },
    {
     "name": "stderr",
     "output_type": "stream",
     "text": [
      "100%|██████████| 1000/1000 [00:01<00:00, 667.53it/s]\n"
     ]
    },
    {
     "name": "stdout",
     "output_type": "stream",
     "text": [
      "Best IG:  0.54  with params  (array([315, 104]), array([206,  76]), 0, array([ 10, 139]), -42)\n",
      "new leaf has  7  labels with distribution  [0. 0. 0. 1.] !\n",
      "new leaf has  1  labels with distribution  [0. 0. 1. 0.] !\n",
      "TREE NR.  1\n",
      "Processing new split node...\n"
     ]
    },
    {
     "name": "stderr",
     "output_type": "stream",
     "text": [
      "100%|██████████| 1000/1000 [00:55<00:00, 17.88it/s]\n"
     ]
    },
    {
     "name": "stdout",
     "output_type": "stream",
     "text": [
      "Best IG:  0.43  with params  (array([187, 401]), array([212, 487]), 0, array([326, 305]), -144)\n",
      "Processing new split node...\n"
     ]
    },
    {
     "name": "stderr",
     "output_type": "stream",
     "text": [
      "100%|██████████| 1000/1000 [00:25<00:00, 39.87it/s]\n"
     ]
    },
    {
     "name": "stdout",
     "output_type": "stream",
     "text": [
      "Best IG:  0.57  with params  (array([126, 235]), array([324, 100]), 1, array([326, 418]), 217)\n",
      "Processing new split node...\n"
     ]
    },
    {
     "name": "stderr",
     "output_type": "stream",
     "text": [
      "100%|██████████| 1000/1000 [00:07<00:00, 128.45it/s]\n"
     ]
    },
    {
     "name": "stdout",
     "output_type": "stream",
     "text": [
      "Best IG:  0.37  with params  (array([171, 336]), array([198,  65]), 2, array([ 81, 105]), 34)\n",
      "new leaf has  42  labels with distribution  [0. 1. 0. 0.] !\n",
      "Processing new split node...\n"
     ]
    },
    {
     "name": "stderr",
     "output_type": "stream",
     "text": [
      "100%|██████████| 1000/1000 [00:02<00:00, 444.05it/s]\n"
     ]
    },
    {
     "name": "stdout",
     "output_type": "stream",
     "text": [
      "Best IG:  1.0  with params  (array([223, 284]), array([ 64, 121]), 1, array([168, 348]), -23)\n",
      "new leaf has  7  labels with distribution  [1. 0. 0. 0.] !\n",
      "Processing new split node...\n"
     ]
    },
    {
     "name": "stderr",
     "output_type": "stream",
     "text": [
      "100%|██████████| 1000/1000 [00:01<00:00, 777.60it/s]\n"
     ]
    },
    {
     "name": "stdout",
     "output_type": "stream",
     "text": [
      "Best IG:  0.65  with params  (array([127, 432]), array([145, 345]), 2, array([293,  81]), -31)\n",
      "new leaf has  1  labels with distribution  [0. 0. 1. 0.] !\n",
      "new leaf has  5  labels with distribution  [0. 1. 0. 0.] !\n",
      "Processing new split node...\n"
     ]
    },
    {
     "name": "stderr",
     "output_type": "stream",
     "text": [
      "100%|██████████| 1000/1000 [00:16<00:00, 61.54it/s]\n"
     ]
    },
    {
     "name": "stdout",
     "output_type": "stream",
     "text": [
      "Best IG:  0.26  with params  (array([137, 297]), array([159, 481]), 0, array([156, 367]), 249)\n",
      "Processing new split node...\n"
     ]
    },
    {
     "name": "stderr",
     "output_type": "stream",
     "text": [
      "100%|██████████| 1000/1000 [00:02<00:00, 478.70it/s]\n"
     ]
    },
    {
     "name": "stdout",
     "output_type": "stream",
     "text": [
      "Best IG:  0.68  with params  (array([ 60, 399]), array([284, 485]), 0, array([151, 277]), 23)\n",
      "new leaf has  2  labels with distribution  [0.  0.5 0.5 0. ] !\n",
      "new leaf has  9  labels with distribution  [0. 0. 0. 1.] !\n",
      "Processing new split node...\n"
     ]
    },
    {
     "name": "stderr",
     "output_type": "stream",
     "text": [
      "100%|██████████| 1000/1000 [00:15<00:00, 64.89it/s]\n"
     ]
    },
    {
     "name": "stdout",
     "output_type": "stream",
     "text": [
      "Best IG:  0.31  with params  (array([221, 318]), array([310,  85]), 2, array([200, 267]), 176)\n",
      "Processing new split node...\n"
     ]
    },
    {
     "name": "stderr",
     "output_type": "stream",
     "text": [
      "100%|██████████| 1000/1000 [00:16<00:00, 59.85it/s]\n"
     ]
    },
    {
     "name": "stdout",
     "output_type": "stream",
     "text": [
      "Best IG:  0.09  with params  (array([180, 489]), array([10, 88]), 0, array([166, 123]), -223)\n",
      "Processing new split node...\n"
     ]
    },
    {
     "name": "stderr",
     "output_type": "stream",
     "text": [
      "100%|██████████| 1000/1000 [00:01<00:00, 735.84it/s]\n"
     ]
    },
    {
     "name": "stdout",
     "output_type": "stream",
     "text": [
      "Best IG:  0.97  with params  (array([ 31, 361]), array([297, 388]), 0, array([  2, 150]), -11)\n",
      "new leaf has  3  labels with distribution  [1. 0. 0. 0.] !\n",
      "new leaf has  2  labels with distribution  [0. 1. 0. 0.] !\n",
      "Processing new split node...\n"
     ]
    },
    {
     "name": "stderr",
     "output_type": "stream",
     "text": [
      "100%|██████████| 1000/1000 [00:13<00:00, 75.48it/s]\n"
     ]
    },
    {
     "name": "stdout",
     "output_type": "stream",
     "text": [
      "Best IG:  0.12  with params  (array([ 85, 498]), array([ 33, 436]), 2, array([ 38, 165]), -136)\n",
      "new leaf has  85  labels with distribution  [1. 0. 0. 0.] !\n",
      "new leaf has  9  labels with distribution  [0.66666667 0.         0.33333333 0.        ] !\n",
      "Processing new split node...\n"
     ]
    },
    {
     "name": "stderr",
     "output_type": "stream",
     "text": [
      "100%|██████████| 1000/1000 [00:01<00:00, 643.92it/s]\n"
     ]
    },
    {
     "name": "stdout",
     "output_type": "stream",
     "text": [
      "Best IG:  0.54  with params  (array([ 67, 404]), array([ 11, 300]), 2, array([217,  60]), 29)\n",
      "new leaf has  7  labels with distribution  [0. 0. 0. 1.] !\n",
      "new leaf has  1  labels with distribution  [1. 0. 0. 0.] !\n",
      "Processing new split node...\n"
     ]
    },
    {
     "name": "stderr",
     "output_type": "stream",
     "text": [
      "100%|██████████| 1000/1000 [00:30<00:00, 32.35it/s]\n"
     ]
    },
    {
     "name": "stdout",
     "output_type": "stream",
     "text": [
      "Best IG:  0.37  with params  (array([193, 482]), array([273, 127]), 2, array([351, 286]), -153)\n",
      "Processing new split node...\n"
     ]
    },
    {
     "name": "stderr",
     "output_type": "stream",
     "text": [
      "100%|██████████| 1000/1000 [00:10<00:00, 99.13it/s]\n"
     ]
    },
    {
     "name": "stdout",
     "output_type": "stream",
     "text": [
      "Best IG:  0.45  with params  (array([104, 100]), array([304, 109]), 1, array([ 95, 314]), -17)\n",
      "Processing new split node...\n"
     ]
    },
    {
     "name": "stderr",
     "output_type": "stream",
     "text": [
      "100%|██████████| 1000/1000 [00:11<00:00, 88.90it/s]\n"
     ]
    },
    {
     "name": "stdout",
     "output_type": "stream",
     "text": [
      "Best IG:  0.12  with params  (array([30, 41]), array([275, 470]), 0, array([179,  25]), 103)\n",
      "new leaf has  61  labels with distribution  [0. 0. 0. 1.] !\n",
      "new leaf has  1  labels with distribution  [0. 0. 1. 0.] !\n",
      "Processing new split node...\n"
     ]
    },
    {
     "name": "stderr",
     "output_type": "stream",
     "text": [
      "100%|██████████| 1000/1000 [00:02<00:00, 382.26it/s]\n"
     ]
    },
    {
     "name": "stdout",
     "output_type": "stream",
     "text": [
      "Best IG:  0.85  with params  (array([282, 414]), array([109, 494]), 2, array([187, 332]), 143)\n",
      "new leaf has  3  labels with distribution  [0.         0.66666667 0.         0.33333333] !\n",
      "new leaf has  8  labels with distribution  [0. 0. 1. 0.] !\n",
      "Processing new split node...\n"
     ]
    },
    {
     "name": "stderr",
     "output_type": "stream",
     "text": [
      "100%|██████████| 1000/1000 [00:22<00:00, 44.74it/s]\n"
     ]
    },
    {
     "name": "stdout",
     "output_type": "stream",
     "text": [
      "Best IG:  0.41  with params  (array([335, 459]), array([ 68, 328]), 0, array([ 33, 418]), 12)\n",
      "Processing new split node...\n"
     ]
    },
    {
     "name": "stderr",
     "output_type": "stream",
     "text": [
      "100%|██████████| 1000/1000 [00:05<00:00, 170.62it/s]\n"
     ]
    },
    {
     "name": "stdout",
     "output_type": "stream",
     "text": [
      "Best IG:  0.31  with params  (array([275,  40]), array([329, 348]), 1, array([ 75, 352]), 83)\n",
      "new leaf has  4  labels with distribution  [0.5 0.  0.5 0. ] !\n",
      "Processing new split node...\n"
     ]
    },
    {
     "name": "stderr",
     "output_type": "stream",
     "text": [
      "100%|██████████| 1000/1000 [00:05<00:00, 186.88it/s]\n"
     ]
    },
    {
     "name": "stdout",
     "output_type": "stream",
     "text": [
      "Best IG:  0.22  with params  (array([239, 457]), array([150, 258]), 0, array([251, 482]), -237)\n",
      "new leaf has  23  labels with distribution  [0. 1. 0. 0.] !\n",
      "Processing new split node...\n"
     ]
    },
    {
     "name": "stderr",
     "output_type": "stream",
     "text": [
      "100%|██████████| 1000/1000 [00:02<00:00, 425.89it/s]\n"
     ]
    },
    {
     "name": "stdout",
     "output_type": "stream",
     "text": [
      "Best IG:  0.51  with params  (array([247, 211]), array([107, 419]), 1, array([288, 480]), 27)\n",
      "new leaf has  7  labels with distribution  [0.         0.28571429 0.71428571 0.        ] !\n",
      "new leaf has  7  labels with distribution  [0. 1. 0. 0.] !\n",
      "Processing new split node...\n"
     ]
    },
    {
     "name": "stderr",
     "output_type": "stream",
     "text": [
      "100%|██████████| 1000/1000 [00:16<00:00, 62.18it/s]\n"
     ]
    },
    {
     "name": "stdout",
     "output_type": "stream",
     "text": [
      "Best IG:  0.19  with params  (array([238, 429]), array([ 81, 406]), 0, array([11, 97]), -125)\n",
      "Processing new split node...\n"
     ]
    },
    {
     "name": "stderr",
     "output_type": "stream",
     "text": [
      "100%|██████████| 1000/1000 [00:13<00:00, 76.40it/s]\n"
     ]
    },
    {
     "name": "stdout",
     "output_type": "stream",
     "text": [
      "Best IG:  0.15  with params  (array([142, 199]), array([ 38, 118]), 2, array([ 4, 60]), 46)\n",
      "Processing new split node...\n"
     ]
    },
    {
     "name": "stderr",
     "output_type": "stream",
     "text": [
      "100%|██████████| 1000/1000 [00:04<00:00, 206.87it/s]\n"
     ]
    },
    {
     "name": "stdout",
     "output_type": "stream",
     "text": [
      "Best IG:  0.35  with params  (array([182, 393]), array([108,  65]), 1, array([140, 153]), -16)\n",
      "new leaf has  7  labels with distribution  [0.57142857 0.         0.42857143 0.        ] !\n",
      "new leaf has  19  labels with distribution  [0. 0. 1. 0.] !\n",
      "Processing new split node...\n"
     ]
    },
    {
     "name": "stderr",
     "output_type": "stream",
     "text": [
      "100%|██████████| 1000/1000 [00:10<00:00, 99.83it/s]\n"
     ]
    },
    {
     "name": "stdout",
     "output_type": "stream",
     "text": [
      "Best IG:  0.2  with params  (array([274, 362]), array([142,  63]), 2, array([ 26, 183]), -9)\n",
      "new leaf has  43  labels with distribution  [0.02325581 0.         0.51162791 0.46511628] !\n",
      "new leaf has  28  labels with distribution  [0.         0.         0.96428571 0.03571429] !\n",
      "Processing new split node...\n"
     ]
    },
    {
     "name": "stderr",
     "output_type": "stream",
     "text": [
      "100%|██████████| 1000/1000 [00:02<00:00, 388.36it/s]\n"
     ]
    },
    {
     "name": "stdout",
     "output_type": "stream",
     "text": [
      "Best IG:  0.56  with params  (array([ 27, 415]), array([336, 486]), 2, array([ 55, 193]), 117)\n",
      "new leaf has  7  labels with distribution  [0. 0. 1. 0.] !\n",
      "Processing new split node...\n"
     ]
    },
    {
     "name": "stderr",
     "output_type": "stream",
     "text": [
      "100%|██████████| 1000/1000 [00:01<00:00, 593.12it/s]\n"
     ]
    },
    {
     "name": "stdout",
     "output_type": "stream",
     "text": [
      "Best IG:  0.76  with params  (array([ 71, 198]), array([100, 216]), 2, array([222, 415]), 9)\n",
      "new leaf has  7  labels with distribution  [0.14285714 0.85714286 0.         0.        ] !\n",
      "new leaf has  2  labels with distribution  [0. 0. 1. 0.] !\n",
      "TREE NR.  2\n",
      "Processing new split node...\n"
     ]
    },
    {
     "name": "stderr",
     "output_type": "stream",
     "text": [
      "100%|██████████| 1000/1000 [00:56<00:00, 17.85it/s]\n"
     ]
    },
    {
     "name": "stdout",
     "output_type": "stream",
     "text": [
      "Best IG:  0.4  with params  (array([152, 419]), array([152, 243]), 1, array([360, 363]), -222)\n",
      "Processing new split node...\n"
     ]
    },
    {
     "name": "stderr",
     "output_type": "stream",
     "text": [
      "100%|██████████| 1000/1000 [00:23<00:00, 42.71it/s]\n"
     ]
    },
    {
     "name": "stdout",
     "output_type": "stream",
     "text": [
      "Best IG:  0.4  with params  (array([197, 120]), array([309, 172]), 0, array([230, 473]), 213)\n",
      "Processing new split node...\n"
     ]
    },
    {
     "name": "stderr",
     "output_type": "stream",
     "text": [
      "100%|██████████| 1000/1000 [00:09<00:00, 108.79it/s]\n"
     ]
    },
    {
     "name": "stdout",
     "output_type": "stream",
     "text": [
      "Best IG:  0.44  with params  (array([225, 400]), array([172,  53]), 2, array([ 58, 304]), -236)\n",
      "Processing new split node...\n"
     ]
    },
    {
     "name": "stderr",
     "output_type": "stream",
     "text": [
      "100%|██████████| 1000/1000 [00:07<00:00, 127.81it/s]\n"
     ]
    },
    {
     "name": "stdout",
     "output_type": "stream",
     "text": [
      "Best IG:  0.25  with params  (array([258, 226]), array([125, 289]), 1, array([ 26, 397]), 18)\n",
      "new leaf has  3  labels with distribution  [0.         0.66666667 0.33333333 0.        ] !\n",
      "Processing new split node...\n"
     ]
    },
    {
     "name": "stderr",
     "output_type": "stream",
     "text": [
      "100%|██████████| 1000/1000 [00:07<00:00, 135.30it/s]\n"
     ]
    },
    {
     "name": "stdout",
     "output_type": "stream",
     "text": [
      "Best IG:  0.1  with params  (array([310,  79]), array([235,  47]), 2, array([ 12, 160]), 60)\n",
      "new leaf has  1  labels with distribution  [0. 0. 1. 0.] !\n",
      "Processing new split node...\n"
     ]
    },
    {
     "name": "stderr",
     "output_type": "stream",
     "text": [
      "100%|██████████| 1000/1000 [00:07<00:00, 137.80it/s]\n"
     ]
    },
    {
     "name": "stdout",
     "output_type": "stream",
     "text": [
      "Best IG:  0.14  with params  (array([117,  46]), array([ 70, 323]), 0, array([ 10, 307]), -102)\n",
      "new leaf has  1  labels with distribution  [0. 0. 1. 0.] !\n",
      "new leaf has  52  labels with distribution  [0. 0. 0. 1.] !\n",
      "Processing new split node...\n"
     ]
    },
    {
     "name": "stderr",
     "output_type": "stream",
     "text": [
      "100%|██████████| 1000/1000 [00:01<00:00, 716.85it/s]\n"
     ]
    },
    {
     "name": "stdout",
     "output_type": "stream",
     "text": [
      "Best IG:  0.86  with params  (array([319, 339]), array([350, 245]), 2, array([ 10, 340]), -83)\n",
      "new leaf has  5  labels with distribution  [1. 0. 0. 0.] !\n",
      "new leaf has  2  labels with distribution  [0. 1. 0. 0.] !\n",
      "Processing new split node...\n"
     ]
    },
    {
     "name": "stderr",
     "output_type": "stream",
     "text": [
      "100%|██████████| 1000/1000 [00:13<00:00, 74.37it/s]\n"
     ]
    },
    {
     "name": "stdout",
     "output_type": "stream",
     "text": [
      "Best IG:  0.34  with params  (array([106, 379]), array([189, 464]), 2, array([213, 241]), 245)\n",
      "Processing new split node...\n"
     ]
    },
    {
     "name": "stderr",
     "output_type": "stream",
     "text": [
      "100%|██████████| 1000/1000 [00:11<00:00, 88.79it/s]\n"
     ]
    },
    {
     "name": "stdout",
     "output_type": "stream",
     "text": [
      "Best IG:  0.15  with params  (array([235, 413]), array([ 48, 392]), 0, array([364, 182]), -66)\n",
      "Processing new split node...\n"
     ]
    },
    {
     "name": "stderr",
     "output_type": "stream",
     "text": [
      "100%|██████████| 1000/1000 [00:09<00:00, 104.16it/s]\n"
     ]
    },
    {
     "name": "stdout",
     "output_type": "stream",
     "text": [
      "Best IG:  0.14  with params  (array([236, 432]), array([229,  96]), 0, array([134, 190]), -131)\n",
      "new leaf has  57  labels with distribution  [1. 0. 0. 0.] !\n",
      "Processing new split node...\n"
     ]
    },
    {
     "name": "stderr",
     "output_type": "stream",
     "text": [
      "100%|██████████| 1000/1000 [00:02<00:00, 408.66it/s]\n"
     ]
    },
    {
     "name": "stdout",
     "output_type": "stream",
     "text": [
      "Best IG:  0.51  with params  (array([116, 140]), array([358, 425]), 0, array([ 11, 460]), 54)\n",
      "new leaf has  3  labels with distribution  [0. 1. 0. 0.] !\n",
      "new leaf has  12  labels with distribution  [0.91666667 0.08333333 0.         0.        ] !\n",
      "Processing new split node...\n"
     ]
    },
    {
     "name": "stderr",
     "output_type": "stream",
     "text": [
      "100%|██████████| 1000/1000 [00:02<00:00, 490.93it/s]\n"
     ]
    },
    {
     "name": "stdout",
     "output_type": "stream",
     "text": [
      "Best IG:  0.58  with params  (array([82, 92]), array([177, 373]), 0, array([ 23, 131]), -86)\n",
      "new leaf has  3  labels with distribution  [0.         0.         0.33333333 0.66666667] !\n",
      "Processing new split node...\n"
     ]
    },
    {
     "name": "stderr",
     "output_type": "stream",
     "text": [
      "100%|██████████| 1000/1000 [00:01<00:00, 602.39it/s]\n"
     ]
    },
    {
     "name": "stdout",
     "output_type": "stream",
     "text": [
      "Best IG:  0.5  with params  (array([31, 61]), array([267, 129]), 2, array([ 29, 187]), 53)\n",
      "new leaf has  8  labels with distribution  [1. 0. 0. 0.] !\n",
      "new leaf has  1  labels with distribution  [0. 0. 0. 1.] !\n",
      "Processing new split node...\n"
     ]
    },
    {
     "name": "stderr",
     "output_type": "stream",
     "text": [
      "100%|██████████| 1000/1000 [00:02<00:00, 366.44it/s]\n"
     ]
    },
    {
     "name": "stdout",
     "output_type": "stream",
     "text": [
      "Best IG:  0.79  with params  (array([280, 437]), array([178, 254]), 0, array([242, 410]), -8)\n",
      "new leaf has  4  labels with distribution  [0.5 0.5 0.  0. ] !\n",
      "Processing new split node...\n"
     ]
    },
    {
     "name": "stderr",
     "output_type": "stream",
     "text": [
      "100%|██████████| 1000/1000 [00:02<00:00, 453.31it/s]\n"
     ]
    },
    {
     "name": "stdout",
     "output_type": "stream",
     "text": [
      "Best IG:  0.39  with params  (array([176, 369]), array([291, 271]), 2, array([ 99, 319]), -157)\n",
      "new leaf has  1  labels with distribution  [0. 0. 1. 0.] !\n",
      "new leaf has  12  labels with distribution  [0. 0. 0. 1.] !\n",
      "Processing new split node...\n"
     ]
    },
    {
     "name": "stderr",
     "output_type": "stream",
     "text": [
      "100%|██████████| 1000/1000 [00:30<00:00, 32.76it/s]\n"
     ]
    },
    {
     "name": "stdout",
     "output_type": "stream",
     "text": [
      "Best IG:  0.52  with params  (array([266, 345]), array([298, 423]), 0, array([ 97, 293]), 190)\n",
      "Processing new split node...\n"
     ]
    },
    {
     "name": "stderr",
     "output_type": "stream",
     "text": [
      "100%|██████████| 1000/1000 [00:17<00:00, 56.24it/s]\n"
     ]
    },
    {
     "name": "stdout",
     "output_type": "stream",
     "text": [
      "Best IG:  0.35  with params  (array([180, 186]), array([279, 406]), 2, array([356, 224]), 57)\n",
      "Processing new split node...\n"
     ]
    },
    {
     "name": "stderr",
     "output_type": "stream",
     "text": [
      "100%|██████████| 1000/1000 [00:12<00:00, 83.15it/s]\n"
     ]
    },
    {
     "name": "stdout",
     "output_type": "stream",
     "text": [
      "Best IG:  0.22  with params  (array([183, 233]), array([217, 411]), 0, array([ 23, 415]), 203)\n",
      "Processing new split node...\n"
     ]
    },
    {
     "name": "stderr",
     "output_type": "stream",
     "text": [
      "100%|██████████| 1000/1000 [00:10<00:00, 98.44it/s]\n"
     ]
    },
    {
     "name": "stdout",
     "output_type": "stream",
     "text": [
      "Best IG:  0.15  with params  (array([ 75, 128]), array([212, 140]), 2, array([128,  11]), 5)\n",
      "Processing new split node...\n"
     ]
    },
    {
     "name": "stderr",
     "output_type": "stream",
     "text": [
      "100%|██████████| 1000/1000 [00:02<00:00, 421.06it/s]\n"
     ]
    },
    {
     "name": "stdout",
     "output_type": "stream",
     "text": [
      "Best IG:  0.75  with params  (array([287, 216]), array([ 47, 166]), 2, array([320, 411]), -185)\n",
      "new leaf has  11  labels with distribution  [0.         0.18181818 0.81818182 0.        ] !\n",
      "new leaf has  3  labels with distribution  [0. 0. 0. 1.] !\n",
      "Processing new split node...\n"
     ]
    },
    {
     "name": "stderr",
     "output_type": "stream",
     "text": [
      "100%|██████████| 1000/1000 [00:08<00:00, 120.60it/s]\n"
     ]
    },
    {
     "name": "stdout",
     "output_type": "stream",
     "text": [
      "Best IG:  0.13  with params  (array([143, 299]), array([213,  88]), 0, array([105,   8]), -136)\n",
      "new leaf has  1  labels with distribution  [0. 1. 0. 0.] !\n",
      "new leaf has  57  labels with distribution  [0.01754386 0.         0.98245614 0.        ] !\n",
      "Processing new split node...\n"
     ]
    },
    {
     "name": "stderr",
     "output_type": "stream",
     "text": [
      "100%|██████████| 1000/1000 [00:01<00:00, 562.11it/s]\n"
     ]
    },
    {
     "name": "stdout",
     "output_type": "stream",
     "text": [
      "Best IG:  0.97  with params  (array([298, 397]), array([236,  73]), 2, array([ 72, 177]), 9)\n",
      "new leaf has  6  labels with distribution  [1. 0. 0. 0.] !\n",
      "new leaf has  4  labels with distribution  [0. 0. 1. 0.] !\n",
      "Processing new split node...\n"
     ]
    },
    {
     "name": "stderr",
     "output_type": "stream",
     "text": [
      "100%|██████████| 1000/1000 [00:07<00:00, 135.15it/s]\n"
     ]
    },
    {
     "name": "stdout",
     "output_type": "stream",
     "text": [
      "Best IG:  0.43  with params  (array([321, 473]), array([ 43, 297]), 2, array([344,  13]), -199)\n",
      "Processing new split node...\n"
     ]
    },
    {
     "name": "stderr",
     "output_type": "stream",
     "text": [
      "100%|██████████| 1000/1000 [00:04<00:00, 247.71it/s]\n"
     ]
    },
    {
     "name": "stdout",
     "output_type": "stream",
     "text": [
      "Best IG:  0.23  with params  (array([58,  3]), array([ 39, 245]), 2, array([29, 27]), 88)\n",
      "new leaf has  26  labels with distribution  [0. 0. 0. 1.] !\n",
      "new leaf has  1  labels with distribution  [0. 0. 1. 0.] !\n",
      "Processing new split node...\n"
     ]
    },
    {
     "name": "stderr",
     "output_type": "stream",
     "text": [
      "100%|██████████| 1000/1000 [00:03<00:00, 260.96it/s]\n"
     ]
    },
    {
     "name": "stdout",
     "output_type": "stream",
     "text": [
      "Best IG:  0.47  with params  (array([191,  24]), array([177, 229]), 2, array([288, 149]), -35)\n",
      "new leaf has  5  labels with distribution  [0. 0. 0. 1.] !\n",
      "Processing new split node...\n"
     ]
    },
    {
     "name": "stderr",
     "output_type": "stream",
     "text": [
      "100%|██████████| 1000/1000 [00:03<00:00, 313.19it/s]\n"
     ]
    },
    {
     "name": "stdout",
     "output_type": "stream",
     "text": [
      "Best IG:  0.45  with params  (array([112, 474]), array([354, 108]), 2, array([114, 135]), -87)\n",
      "new leaf has  19  labels with distribution  [0. 0. 1. 0.] !\n",
      "new leaf has  2  labels with distribution  [0. 0. 0. 1.] !\n",
      "Processing new split node...\n"
     ]
    },
    {
     "name": "stderr",
     "output_type": "stream",
     "text": [
      "100%|██████████| 1000/1000 [00:13<00:00, 75.01it/s]\n"
     ]
    },
    {
     "name": "stdout",
     "output_type": "stream",
     "text": [
      "Best IG:  0.28  with params  (array([245, 274]), array([294, 468]), 0, array([ 92, 375]), 174)\n",
      "Processing new split node...\n"
     ]
    },
    {
     "name": "stderr",
     "output_type": "stream",
     "text": [
      "100%|██████████| 1000/1000 [00:02<00:00, 335.80it/s]\n"
     ]
    },
    {
     "name": "stdout",
     "output_type": "stream",
     "text": [
      "Best IG:  0.63  with params  (array([ 67, 407]), array([280, 277]), 2, array([149, 119]), -15)\n",
      "new leaf has  3  labels with distribution  [0. 1. 0. 0.] !\n",
      "Processing new split node...\n"
     ]
    },
    {
     "name": "stderr",
     "output_type": "stream",
     "text": [
      "100%|██████████| 1000/1000 [00:02<00:00, 391.39it/s]\n"
     ]
    },
    {
     "name": "stdout",
     "output_type": "stream",
     "text": [
      "Best IG:  0.54  with params  (array([220, 419]), array([346, 128]), 0, array([317, 245]), 191)\n",
      "new leaf has  2  labels with distribution  [1. 0. 0. 0.] !\n",
      "new leaf has  14  labels with distribution  [0. 0. 1. 0.] !\n",
      "Processing new split node...\n"
     ]
    },
    {
     "name": "stderr",
     "output_type": "stream",
     "text": [
      "100%|██████████| 1000/1000 [00:11<00:00, 87.45it/s]\n"
     ]
    },
    {
     "name": "stdout",
     "output_type": "stream",
     "text": [
      "Best IG:  0.31  with params  (array([140, 110]), array([ 61, 177]), 2, array([366, 231]), -24)\n",
      "Processing new split node...\n"
     ]
    },
    {
     "name": "stderr",
     "output_type": "stream",
     "text": [
      "100%|██████████| 1000/1000 [00:09<00:00, 107.57it/s]\n"
     ]
    },
    {
     "name": "stdout",
     "output_type": "stream",
     "text": [
      "Best IG:  0.12  with params  (array([354,   3]), array([359, 104]), 1, array([169,  36]), -214)\n",
      "new leaf has  1  labels with distribution  [1. 0. 0. 0.] !\n",
      "new leaf has  62  labels with distribution  [0. 1. 0. 0.] !\n",
      "Processing new split node...\n"
     ]
    },
    {
     "name": "stderr",
     "output_type": "stream",
     "text": [
      "100%|██████████| 1000/1000 [00:03<00:00, 302.94it/s]\n"
     ]
    },
    {
     "name": "stdout",
     "output_type": "stream",
     "text": [
      "Best IG:  0.79  with params  (array([137, 448]), array([218, 299]), 1, array([ 19, 440]), -120)\n",
      "Processing new split node...\n"
     ]
    },
    {
     "name": "stderr",
     "output_type": "stream",
     "text": [
      "100%|██████████| 1000/1000 [00:02<00:00, 476.64it/s]\n"
     ]
    },
    {
     "name": "stdout",
     "output_type": "stream",
     "text": [
      "Best IG:  0.97  with params  (array([  4, 283]), array([158,  23]), 0, array([15, 44]), 24)\n",
      "new leaf has  4  labels with distribution  [1. 0. 0. 0.] !\n",
      "new leaf has  6  labels with distribution  [0. 0. 1. 0.] !\n",
      "Processing new split node...\n"
     ]
    },
    {
     "name": "stderr",
     "output_type": "stream",
     "text": [
      "100%|██████████| 1000/1000 [00:01<00:00, 641.85it/s]\n"
     ]
    },
    {
     "name": "stdout",
     "output_type": "stream",
     "text": [
      "Best IG:  0.54  with params  (array([344,   4]), array([185, 157]), 1, array([ 47, 201]), -32)\n",
      "new leaf has  7  labels with distribution  [0. 1. 0. 0.] !\n",
      "new leaf has  1  labels with distribution  [1. 0. 0. 0.] !\n",
      "TREE NR.  3\n",
      "Processing new split node...\n"
     ]
    },
    {
     "name": "stderr",
     "output_type": "stream",
     "text": [
      "100%|██████████| 1000/1000 [00:52<00:00, 19.10it/s]\n"
     ]
    },
    {
     "name": "stdout",
     "output_type": "stream",
     "text": [
      "Best IG:  0.46  with params  (array([241, 206]), array([ 98, 428]), 0, array([258, 348]), 227)\n",
      "Processing new split node...\n"
     ]
    },
    {
     "name": "stderr",
     "output_type": "stream",
     "text": [
      "100%|██████████| 1000/1000 [00:26<00:00, 37.39it/s]\n"
     ]
    },
    {
     "name": "stdout",
     "output_type": "stream",
     "text": [
      "Best IG:  0.57  with params  (array([205, 119]), array([267, 367]), 2, array([218, 475]), 79)\n",
      "Processing new split node...\n"
     ]
    },
    {
     "name": "stderr",
     "output_type": "stream",
     "text": [
      "100%|██████████| 1000/1000 [00:12<00:00, 79.57it/s]\n"
     ]
    },
    {
     "name": "stdout",
     "output_type": "stream",
     "text": [
      "Best IG:  0.21  with params  (array([204, 403]), array([354, 424]), 0, array([ 22, 167]), 249)\n",
      "Processing new split node...\n"
     ]
    },
    {
     "name": "stderr",
     "output_type": "stream",
     "text": [
      "100%|██████████| 1000/1000 [00:10<00:00, 95.68it/s]\n"
     ]
    },
    {
     "name": "stdout",
     "output_type": "stream",
     "text": [
      "Best IG:  0.18  with params  (array([311, 499]), array([225,  56]), 0, array([ 23, 477]), -227)\n",
      "Processing new split node...\n"
     ]
    },
    {
     "name": "stderr",
     "output_type": "stream",
     "text": [
      "100%|██████████| 1000/1000 [00:03<00:00, 281.61it/s]\n"
     ]
    },
    {
     "name": "stdout",
     "output_type": "stream",
     "text": [
      "Best IG:  0.73  with params  (array([192, 310]), array([ 65, 266]), 1, array([208, 386]), -193)\n",
      "new leaf has  15  labels with distribution  [0. 0. 1. 0.] !\n",
      "Processing new split node...\n"
     ]
    },
    {
     "name": "stderr",
     "output_type": "stream",
     "text": [
      "100%|██████████| 1000/1000 [00:01<00:00, 593.12it/s]\n"
     ]
    },
    {
     "name": "stdout",
     "output_type": "stream",
     "text": [
      "Best IG:  0.92  with params  (array([148, 143]), array([334, 278]), 2, array([ 47, 338]), 93)\n",
      "new leaf has  6  labels with distribution  [0. 1. 0. 0.] !\n",
      "new leaf has  3  labels with distribution  [0.66666667 0.         0.33333333 0.        ] !\n",
      "Processing new split node...\n"
     ]
    },
    {
     "name": "stderr",
     "output_type": "stream",
     "text": [
      "100%|██████████| 1000/1000 [00:07<00:00, 135.83it/s]\n"
     ]
    },
    {
     "name": "stdout",
     "output_type": "stream",
     "text": [
      "Best IG:  0.11  with params  (array([ 53, 257]), array([176, 323]), 2, array([327, 218]), 6)\n",
      "new leaf has  34  labels with distribution  [0. 0. 1. 0.] !\n",
      "Processing new split node...\n"
     ]
    },
    {
     "name": "stderr",
     "output_type": "stream",
     "text": [
      "100%|██████████| 1000/1000 [00:03<00:00, 328.95it/s]\n"
     ]
    },
    {
     "name": "stdout",
     "output_type": "stream",
     "text": [
      "Best IG:  0.33  with params  (array([285,  62]), array([232, 361]), 2, array([ 29, 185]), -66)\n",
      "new leaf has  2  labels with distribution  [0. 0. 0. 1.] !\n",
      "new leaf has  18  labels with distribution  [0.05555556 0.         0.88888889 0.05555556] !\n",
      "Processing new split node...\n"
     ]
    },
    {
     "name": "stderr",
     "output_type": "stream",
     "text": [
      "100%|██████████| 1000/1000 [00:02<00:00, 390.17it/s]\n"
     ]
    },
    {
     "name": "stdout",
     "output_type": "stream",
     "text": [
      "Best IG:  0.9  with params  (array([ 89, 340]), array([276, 311]), 0, array([  8, 405]), -41)\n",
      "new leaf has  11  labels with distribution  [0. 1. 0. 0.] !\n",
      "new leaf has  5  labels with distribution  [0. 0. 1. 0.] !\n",
      "Processing new split node...\n"
     ]
    },
    {
     "name": "stderr",
     "output_type": "stream",
     "text": [
      "100%|██████████| 1000/1000 [00:15<00:00, 66.35it/s]\n"
     ]
    },
    {
     "name": "stdout",
     "output_type": "stream",
     "text": [
      "Best IG:  0.23  with params  (array([213, 401]), array([177, 172]), 0, array([ 54, 465]), -144)\n",
      "Processing new split node...\n"
     ]
    },
    {
     "name": "stderr",
     "output_type": "stream",
     "text": [
      "100%|██████████| 1000/1000 [00:01<00:00, 657.87it/s]\n"
     ]
    },
    {
     "name": "stdout",
     "output_type": "stream",
     "text": [
      "Best IG:  0.81  with params  (array([237, 220]), array([363, 304]), 0, array([142, 486]), 4)\n",
      "new leaf has  2  labels with distribution  [0. 1. 0. 0.] !\n",
      "new leaf has  6  labels with distribution  [0. 0. 1. 0.] !\n",
      "Processing new split node...\n"
     ]
    },
    {
     "name": "stderr",
     "output_type": "stream",
     "text": [
      "100%|██████████| 1000/1000 [00:13<00:00, 74.16it/s]\n"
     ]
    },
    {
     "name": "stdout",
     "output_type": "stream",
     "text": [
      "Best IG:  0.21  with params  (array([356,  20]), array([186, 158]), 2, array([ 36, 355]), 15)\n",
      "Processing new split node...\n"
     ]
    },
    {
     "name": "stderr",
     "output_type": "stream",
     "text": [
      "100%|██████████| 1000/1000 [00:02<00:00, 409.84it/s]\n"
     ]
    },
    {
     "name": "stdout",
     "output_type": "stream",
     "text": [
      "Best IG:  0.74  with params  (array([20, 23]), array([ 76, 179]), 2, array([ 34, 489]), 3)\n",
      "Processing new split node...\n"
     ]
    },
    {
     "name": "stderr",
     "output_type": "stream",
     "text": [
      "100%|██████████| 1000/1000 [00:01<00:00, 648.49it/s]\n"
     ]
    },
    {
     "name": "stdout",
     "output_type": "stream",
     "text": [
      "Best IG:  0.54  with params  (array([289,  45]), array([268, 375]), 0, array([ 45, 350]), 142)\n",
      "new leaf has  1  labels with distribution  [0. 0. 1. 0.] !\n",
      "new leaf has  7  labels with distribution  [0. 0. 0. 1.] !\n",
      "Processing new split node...\n"
     ]
    },
    {
     "name": "stderr",
     "output_type": "stream",
     "text": [
      "100%|██████████| 1000/1000 [00:01<00:00, 706.75it/s]\n"
     ]
    },
    {
     "name": "stdout",
     "output_type": "stream",
     "text": [
      "Best IG:  0.86  with params  (array([ 59, 472]), array([ 27, 385]), 2, array([162,  98]), -189)\n",
      "new leaf has  5  labels with distribution  [0. 0. 1. 0.] !\n",
      "new leaf has  2  labels with distribution  [0. 1. 0. 0.] !\n",
      "Processing new split node...\n"
     ]
    },
    {
     "name": "stderr",
     "output_type": "stream",
     "text": [
      "100%|██████████| 1000/1000 [00:11<00:00, 90.51it/s]\n"
     ]
    },
    {
     "name": "stdout",
     "output_type": "stream",
     "text": [
      "Best IG:  0.09  with params  (array([75, 45]), array([193,  82]), 2, array([129, 259]), 77)\n",
      "new leaf has  82  labels with distribution  [0. 0. 0. 1.] !\n",
      "new leaf has  1  labels with distribution  [0. 0. 1. 0.] !\n",
      "Processing new split node...\n"
     ]
    },
    {
     "name": "stderr",
     "output_type": "stream",
     "text": [
      "100%|██████████| 1000/1000 [00:27<00:00, 36.11it/s]\n"
     ]
    },
    {
     "name": "stdout",
     "output_type": "stream",
     "text": [
      "Best IG:  0.53  with params  (array([228, 408]), array([144,  45]), 1, array([272, 340]), -240)\n",
      "Processing new split node...\n"
     ]
    },
    {
     "name": "stderr",
     "output_type": "stream",
     "text": [
      "100%|██████████| 1000/1000 [00:17<00:00, 55.80it/s]\n"
     ]
    },
    {
     "name": "stdout",
     "output_type": "stream",
     "text": [
      "Best IG:  0.28  with params  (array([162, 277]), array([155, 443]), 0, array([191, 318]), 218)\n",
      "Processing new split node...\n"
     ]
    },
    {
     "name": "stderr",
     "output_type": "stream",
     "text": [
      "100%|██████████| 1000/1000 [00:04<00:00, 212.54it/s]\n"
     ]
    },
    {
     "name": "stdout",
     "output_type": "stream",
     "text": [
      "Best IG:  0.71  with params  (array([181, 139]), array([200, 405]), 2, array([350, 463]), 111)\n",
      "Processing new split node...\n"
     ]
    },
    {
     "name": "stderr",
     "output_type": "stream",
     "text": [
      "100%|██████████| 1000/1000 [00:02<00:00, 489.48it/s]\n"
     ]
    },
    {
     "name": "stdout",
     "output_type": "stream",
     "text": [
      "Best IG:  0.65  with params  (array([ 65, 346]), array([294, 221]), 0, array([118, 481]), -120)\n",
      "new leaf has  2  labels with distribution  [0.  0.  0.5 0.5] !\n",
      "new leaf has  10  labels with distribution  [1. 0. 0. 0.] !\n",
      "Processing new split node...\n"
     ]
    },
    {
     "name": "stderr",
     "output_type": "stream",
     "text": [
      "100%|██████████| 1000/1000 [00:03<00:00, 316.76it/s]\n"
     ]
    },
    {
     "name": "stdout",
     "output_type": "stream",
     "text": [
      "Best IG:  0.28  with params  (array([ 59, 343]), array([  7, 332]), 0, array([ 2, 25]), -223)\n",
      "new leaf has  1  labels with distribution  [0. 0. 1. 0.] !\n",
      "new leaf has  20  labels with distribution  [0. 0. 0. 1.] !\n",
      "Processing new split node...\n"
     ]
    },
    {
     "name": "stderr",
     "output_type": "stream",
     "text": [
      "100%|██████████| 1000/1000 [00:13<00:00, 73.59it/s]\n"
     ]
    },
    {
     "name": "stdout",
     "output_type": "stream",
     "text": [
      "Best IG:  0.31  with params  (array([245, 248]), array([ 56, 359]), 1, array([ 82, 282]), 183)\n",
      "Processing new split node...\n"
     ]
    },
    {
     "name": "stderr",
     "output_type": "stream",
     "text": [
      "100%|██████████| 1000/1000 [00:04<00:00, 221.29it/s]\n"
     ]
    },
    {
     "name": "stdout",
     "output_type": "stream",
     "text": [
      "Best IG:  0.56  with params  (array([283, 471]), array([208, 214]), 0, array([ 52, 213]), -132)\n",
      "Processing new split node...\n"
     ]
    },
    {
     "name": "stderr",
     "output_type": "stream",
     "text": [
      "100%|██████████| 1000/1000 [00:02<00:00, 414.08it/s]\n"
     ]
    },
    {
     "name": "stdout",
     "output_type": "stream",
     "text": [
      "Best IG:  0.57  with params  (array([317, 350]), array([155, 406]), 2, array([ 10, 356]), 83)\n",
      "new leaf has  13  labels with distribution  [0. 1. 0. 0.] !\n",
      "new leaf has  2  labels with distribution  [1. 0. 0. 0.] !\n",
      "Processing new split node...\n"
     ]
    },
    {
     "name": "stderr",
     "output_type": "stream",
     "text": [
      "100%|██████████| 1000/1000 [00:02<00:00, 353.36it/s]\n"
     ]
    },
    {
     "name": "stdout",
     "output_type": "stream",
     "text": [
      "Best IG:  0.54  with params  (array([152, 254]), array([277, 240]), 1, array([176, 137]), 51)\n",
      "new leaf has  14  labels with distribution  [0.92857143 0.07142857 0.         0.        ] !\n",
      "new leaf has  2  labels with distribution  [0. 0. 1. 0.] !\n",
      "Processing new split node...\n"
     ]
    },
    {
     "name": "stderr",
     "output_type": "stream",
     "text": [
      "100%|██████████| 1000/1000 [00:10<00:00, 91.61it/s]\n"
     ]
    },
    {
     "name": "stdout",
     "output_type": "stream",
     "text": [
      "Best IG:  0.26  with params  (array([ 17, 351]), array([354, 334]), 2, array([248, 235]), 175)\n",
      "Processing new split node...\n"
     ]
    },
    {
     "name": "stderr",
     "output_type": "stream",
     "text": [
      "100%|██████████| 1000/1000 [00:08<00:00, 115.34it/s]\n"
     ]
    },
    {
     "name": "stdout",
     "output_type": "stream",
     "text": [
      "Best IG:  0.09  with params  (array([332, 382]), array([324, 214]), 0, array([128, 175]), -122)\n",
      "new leaf has  2  labels with distribution  [0.5 0.  0.  0.5] !\n",
      "new leaf has  59  labels with distribution  [1. 0. 0. 0.] !\n",
      "Processing new split node...\n"
     ]
    },
    {
     "name": "stderr",
     "output_type": "stream",
     "text": [
      "100%|██████████| 1000/1000 [00:02<00:00, 497.02it/s]\n"
     ]
    },
    {
     "name": "stdout",
     "output_type": "stream",
     "text": [
      "Best IG:  0.99  with params  (array([202, 193]), array([243,  54]), 0, array([ 10, 128]), 41)\n",
      "new leaf has  6  labels with distribution  [0.66666667 0.         0.33333333 0.        ] !\n",
      "new leaf has  5  labels with distribution  [0. 0. 0. 1.] !\n",
      "Processing new split node...\n"
     ]
    },
    {
     "name": "stderr",
     "output_type": "stream",
     "text": [
      "100%|██████████| 1000/1000 [00:08<00:00, 114.90it/s]\n"
     ]
    },
    {
     "name": "stdout",
     "output_type": "stream",
     "text": [
      "Best IG:  0.34  with params  (array([187, 253]), array([178,  69]), 2, array([207, 125]), 44)\n",
      "new leaf has  60  labels with distribution  [0. 1. 0. 0.] !\n",
      "new leaf has  4  labels with distribution  [1. 0. 0. 0.] !\n",
      "TREE NR.  4\n",
      "Processing new split node...\n"
     ]
    },
    {
     "name": "stderr",
     "output_type": "stream",
     "text": [
      "100%|██████████| 1000/1000 [00:53<00:00, 18.73it/s]\n"
     ]
    },
    {
     "name": "stdout",
     "output_type": "stream",
     "text": [
      "Best IG:  0.37  with params  (array([251,  30]), array([249, 430]), 0, array([162, 304]), 184)\n",
      "Processing new split node...\n"
     ]
    },
    {
     "name": "stderr",
     "output_type": "stream",
     "text": [
      "100%|██████████| 1000/1000 [00:29<00:00, 34.30it/s]\n"
     ]
    },
    {
     "name": "stdout",
     "output_type": "stream",
     "text": [
      "Best IG:  0.29  with params  (array([318, 447]), array([286, 137]), 2, array([113, 288]), -221)\n",
      "Processing new split node...\n"
     ]
    },
    {
     "name": "stderr",
     "output_type": "stream",
     "text": [
      "100%|██████████| 1000/1000 [00:14<00:00, 70.06it/s]\n"
     ]
    },
    {
     "name": "stdout",
     "output_type": "stream",
     "text": [
      "Best IG:  0.38  with params  (array([329, 445]), array([98, 86]), 0, array([ 6, 15]), -107)\n",
      "Processing new split node...\n"
     ]
    },
    {
     "name": "stderr",
     "output_type": "stream",
     "text": [
      "100%|██████████| 1000/1000 [00:11<00:00, 90.02it/s]\n"
     ]
    },
    {
     "name": "stdout",
     "output_type": "stream",
     "text": [
      "Best IG:  0.24  with params  (array([ 97, 474]), array([  1, 462]), 0, array([ 22, 343]), 41)\n",
      "Processing new split node...\n"
     ]
    },
    {
     "name": "stderr",
     "output_type": "stream",
     "text": [
      "100%|██████████| 1000/1000 [00:01<00:00, 548.87it/s]\n"
     ]
    },
    {
     "name": "stdout",
     "output_type": "stream",
     "text": [
      "Best IG:  0.72  with params  (array([ 47, 477]), array([374,  70]), 1, array([161, 155]), -124)\n",
      "new leaf has  2  labels with distribution  [0. 0. 0. 1.] !\n",
      "new leaf has  8  labels with distribution  [0. 0. 1. 0.] !\n",
      "Processing new split node...\n"
     ]
    },
    {
     "name": "stderr",
     "output_type": "stream",
     "text": [
      "100%|██████████| 1000/1000 [00:09<00:00, 101.39it/s]\n"
     ]
    },
    {
     "name": "stdout",
     "output_type": "stream",
     "text": [
      "Best IG:  0.1  with params  (array([131,  39]), array([ 40, 403]), 1, array([207, 196]), 251)\n",
      "new leaf has  50  labels with distribution  [0. 0. 0. 1.] !\n",
      "Processing new split node...\n"
     ]
    },
    {
     "name": "stderr",
     "output_type": "stream",
     "text": [
      "100%|██████████| 1000/1000 [00:03<00:00, 288.27it/s]\n"
     ]
    },
    {
     "name": "stdout",
     "output_type": "stream",
     "text": [
      "Best IG:  0.42  with params  (array([114,  27]), array([200, 117]), 0, array([328,  65]), -20)\n",
      "new leaf has  3  labels with distribution  [0. 0. 1. 0.] !\n",
      "new leaf has  20  labels with distribution  [0.   0.   0.05 0.95] !\n",
      "Processing new split node...\n"
     ]
    },
    {
     "name": "stderr",
     "output_type": "stream",
     "text": [
      "100%|██████████| 1000/1000 [00:03<00:00, 276.93it/s]\n"
     ]
    },
    {
     "name": "stdout",
     "output_type": "stream",
     "text": [
      "Best IG:  0.44  with params  (array([301, 346]), array([153, 346]), 0, array([ 32, 139]), -135)\n",
      "Processing new split node...\n"
     ]
    },
    {
     "name": "stderr",
     "output_type": "stream",
     "text": [
      "100%|██████████| 1000/1000 [00:02<00:00, 390.32it/s]\n"
     ]
    },
    {
     "name": "stdout",
     "output_type": "stream",
     "text": [
      "Best IG:  0.54  with params  (array([218,  65]), array([268, 453]), 2, array([ 67, 400]), 142)\n",
      "new leaf has  2  labels with distribution  [0. 0. 0. 1.] !\n",
      "new leaf has  14  labels with distribution  [0. 0. 1. 0.] !\n",
      "Processing new split node...\n"
     ]
    },
    {
     "name": "stderr",
     "output_type": "stream",
     "text": [
      "100%|██████████| 1000/1000 [00:01<00:00, 653.17it/s]\n"
     ]
    },
    {
     "name": "stdout",
     "output_type": "stream",
     "text": [
      "Best IG:  0.95  with params  (array([108, 291]), array([336, 346]), 2, array([144, 362]), 22)\n",
      "new leaf has  5  labels with distribution  [0. 1. 0. 0.] !\n",
      "new leaf has  3  labels with distribution  [0. 0. 1. 0.] !\n",
      "Processing new split node...\n"
     ]
    },
    {
     "name": "stderr",
     "output_type": "stream",
     "text": [
      "100%|██████████| 1000/1000 [00:15<00:00, 63.29it/s]\n"
     ]
    },
    {
     "name": "stdout",
     "output_type": "stream",
     "text": [
      "Best IG:  0.47  with params  (array([ 84, 466]), array([ 90, 458]), 0, array([341, 109]), -64)\n",
      "Processing new split node...\n"
     ]
    },
    {
     "name": "stderr",
     "output_type": "stream",
     "text": [
      "100%|██████████| 1000/1000 [00:05<00:00, 182.58it/s]\n"
     ]
    },
    {
     "name": "stdout",
     "output_type": "stream",
     "text": [
      "Best IG:  0.46  with params  (array([244, 194]), array([294, 294]), 0, array([58, 77]), 1)\n",
      "new leaf has  12  labels with distribution  [1. 0. 0. 0.] !\n",
      "Processing new split node...\n"
     ]
    },
    {
     "name": "stderr",
     "output_type": "stream",
     "text": [
      "100%|██████████| 1000/1000 [00:03<00:00, 260.41it/s]\n"
     ]
    },
    {
     "name": "stdout",
     "output_type": "stream",
     "text": [
      "Best IG:  0.49  with params  (array([246, 366]), array([119, 128]), 2, array([272, 390]), -94)\n",
      "Processing new split node...\n"
     ]
    },
    {
     "name": "stderr",
     "output_type": "stream",
     "text": [
      "100%|██████████| 1000/1000 [00:02<00:00, 372.87it/s]\n"
     ]
    },
    {
     "name": "stdout",
     "output_type": "stream",
     "text": [
      "Best IG:  0.69  with params  (array([331,  70]), array([270, 207]), 2, array([ 46, 105]), -20)\n",
      "new leaf has  7  labels with distribution  [0.14285714 0.         0.71428571 0.14285714] !\n",
      "new leaf has  10  labels with distribution  [0. 0. 0. 1.] !\n",
      "Processing new split node...\n"
     ]
    },
    {
     "name": "stderr",
     "output_type": "stream",
     "text": [
      "100%|██████████| 1000/1000 [00:01<00:00, 599.86it/s]\n"
     ]
    },
    {
     "name": "stdout",
     "output_type": "stream",
     "text": [
      "Best IG:  0.92  with params  (array([257, 209]), array([166, 144]), 2, array([ 99, 200]), 13)\n",
      "new leaf has  6  labels with distribution  [0.83333333 0.16666667 0.         0.        ] !\n",
      "new leaf has  3  labels with distribution  [0. 0. 1. 0.] !\n",
      "Processing new split node...\n"
     ]
    },
    {
     "name": "stderr",
     "output_type": "stream",
     "text": [
      "100%|██████████| 1000/1000 [00:09<00:00, 101.70it/s]\n"
     ]
    },
    {
     "name": "stdout",
     "output_type": "stream",
     "text": [
      "Best IG:  0.53  with params  (array([287, 445]), array([167, 428]), 0, array([  3, 391]), 92)\n",
      "new leaf has  13  labels with distribution  [0. 1. 0. 0.] !\n",
      "Processing new split node...\n"
     ]
    },
    {
     "name": "stderr",
     "output_type": "stream",
     "text": [
      "100%|██████████| 1000/1000 [00:07<00:00, 127.11it/s]\n"
     ]
    },
    {
     "name": "stdout",
     "output_type": "stream",
     "text": [
      "Best IG:  0.19  with params  (array([209,  27]), array([16, 56]), 0, array([ 2, 78]), -21)\n",
      "new leaf has  38  labels with distribution  [0. 0. 1. 0.] !\n",
      "Processing new split node...\n"
     ]
    },
    {
     "name": "stderr",
     "output_type": "stream",
     "text": [
      "100%|██████████| 1000/1000 [00:02<00:00, 339.32it/s]\n"
     ]
    },
    {
     "name": "stdout",
     "output_type": "stream",
     "text": [
      "Best IG:  0.63  with params  (array([125, 357]), array([73, 66]), 2, array([ 13, 241]), -22)\n",
      "new leaf has  3  labels with distribution  [0. 0. 0. 1.] !\n",
      "new leaf has  16  labels with distribution  [0.     0.1875 0.8125 0.    ] !\n",
      "Processing new split node...\n"
     ]
    },
    {
     "name": "stderr",
     "output_type": "stream",
     "text": [
      "100%|██████████| 1000/1000 [00:24<00:00, 41.59it/s]\n"
     ]
    },
    {
     "name": "stdout",
     "output_type": "stream",
     "text": [
      "Best IG:  0.47  with params  (array([253, 113]), array([372,  23]), 1, array([287, 401]), 138)\n",
      "Processing new split node...\n"
     ]
    },
    {
     "name": "stderr",
     "output_type": "stream",
     "text": [
      "100%|██████████| 1000/1000 [00:09<00:00, 104.50it/s]\n"
     ]
    },
    {
     "name": "stdout",
     "output_type": "stream",
     "text": [
      "Best IG:  0.33  with params  (array([ 70, 392]), array([201,  18]), 1, array([264, 141]), 66)\n",
      "Processing new split node...\n"
     ]
    },
    {
     "name": "stderr",
     "output_type": "stream",
     "text": [
      "100%|██████████| 1000/1000 [00:01<00:00, 765.70it/s]\n"
     ]
    },
    {
     "name": "stdout",
     "output_type": "stream",
     "text": [
      "Best IG:  1.0  with params  (array([ 13, 463]), array([356,  91]), 2, array([204, 476]), 172)\n",
      "new leaf has  3  labels with distribution  [0. 0. 1. 0.] !\n",
      "new leaf has  3  labels with distribution  [1. 0. 0. 0.] !\n",
      "Processing new split node...\n"
     ]
    },
    {
     "name": "stderr",
     "output_type": "stream",
     "text": [
      "100%|██████████| 1000/1000 [00:09<00:00, 104.47it/s]\n"
     ]
    },
    {
     "name": "stdout",
     "output_type": "stream",
     "text": [
      "Best IG:  0.22  with params  (array([27,  7]), array([103, 113]), 1, array([ 28, 366]), 92)\n",
      "new leaf has  61  labels with distribution  [0. 1. 0. 0.] !\n",
      "new leaf has  4  labels with distribution  [0.75 0.25 0.   0.  ] !\n",
      "Processing new split node...\n"
     ]
    },
    {
     "name": "stderr",
     "output_type": "stream",
     "text": [
      "100%|██████████| 1000/1000 [00:15<00:00, 62.82it/s]\n"
     ]
    },
    {
     "name": "stdout",
     "output_type": "stream",
     "text": [
      "Best IG:  0.44  with params  (array([ 96, 339]), array([ 75, 183]), 2, array([282, 422]), -88)\n",
      "Processing new split node...\n"
     ]
    },
    {
     "name": "stderr",
     "output_type": "stream",
     "text": [
      "100%|██████████| 1000/1000 [00:02<00:00, 411.87it/s]\n"
     ]
    },
    {
     "name": "stdout",
     "output_type": "stream",
     "text": [
      "Best IG:  0.38  with params  (array([  3, 430]), array([ 26, 114]), 2, array([ 20, 214]), -157)\n",
      "new leaf has  3  labels with distribution  [0.         0.33333333 0.33333333 0.33333333] !\n",
      "new leaf has  12  labels with distribution  [0. 0. 0. 1.] !\n",
      "Processing new split node...\n"
     ]
    },
    {
     "name": "stderr",
     "output_type": "stream",
     "text": [
      "100%|██████████| 1000/1000 [00:13<00:00, 74.16it/s]\n"
     ]
    },
    {
     "name": "stdout",
     "output_type": "stream",
     "text": [
      "Best IG:  0.39  with params  (array([281, 174]), array([351, 190]), 1, array([267, 395]), 88)\n",
      "Processing new split node...\n"
     ]
    },
    {
     "name": "stderr",
     "output_type": "stream",
     "text": [
      "100%|██████████| 1000/1000 [00:02<00:00, 368.46it/s]\n"
     ]
    },
    {
     "name": "stdout",
     "output_type": "stream",
     "text": [
      "Best IG:  1.0  with params  (array([198, 383]), array([320, 151]), 0, array([237,  46]), 163)\n",
      "new leaf has  8  labels with distribution  [0. 1. 0. 0.] !\n",
      "Processing new split node...\n"
     ]
    },
    {
     "name": "stderr",
     "output_type": "stream",
     "text": [
      "100%|██████████| 1000/1000 [00:01<00:00, 607.53it/s]\n"
     ]
    },
    {
     "name": "stdout",
     "output_type": "stream",
     "text": [
      "Best IG:  0.81  with params  (array([117, 481]), array([338,  74]), 1, array([184, 260]), -71)\n",
      "new leaf has  6  labels with distribution  [0. 0. 1. 0.] !\n",
      "new leaf has  2  labels with distribution  [1. 0. 0. 0.] !\n",
      "Processing new split node...\n"
     ]
    },
    {
     "name": "stderr",
     "output_type": "stream",
     "text": [
      "100%|██████████| 1000/1000 [00:11<00:00, 89.69it/s]\n"
     ]
    },
    {
     "name": "stdout",
     "output_type": "stream",
     "text": [
      "Best IG:  0.19  with params  (array([278, 232]), array([198, 489]), 0, array([ 54, 141]), 143)\n",
      "new leaf has  3  labels with distribution  [0. 1. 0. 0.] !\n",
      "Processing new split node...\n"
     ]
    },
    {
     "name": "stderr",
     "output_type": "stream",
     "text": [
      "100%|██████████| 1000/1000 [00:10<00:00, 93.24it/s]\n"
     ]
    },
    {
     "name": "stdout",
     "output_type": "stream",
     "text": [
      "Best IG:  0.1  with params  (array([290, 351]), array([ 39, 236]), 0, array([128, 155]), -122)\n",
      "new leaf has  1  labels with distribution  [0. 1. 0. 0.] !\n",
      "new leaf has  79  labels with distribution  [0.98734177 0.         0.         0.01265823] !\n"
     ]
    }
   ],
   "source": [
    "forest = Forest(4, 5, X_train_integral, Y_train, \n",
    "                    tree_param = {'depth': 5,\n",
    "                        # 'random_color_values': 10, # still unnecessary\n",
    "                        # 'num_pixel_locations': 1000,\n",
    "                        # 'num_patch_sizes': 5,\n",
    "                        # 'num_thresholds': 20,\n",
    "                        'minimum_samples_at_leaf': 5, #  was not specified in task, so I chose it\n",
    "                        },\n",
    "                        bagging_fraction=1,\n",
    "                        mode = 'train')\n",
    "forest.train()"
   ]
  },
  {
   "cell_type": "code",
   "execution_count": 8,
   "metadata": {},
   "outputs": [
    {
     "name": "stdout",
     "output_type": "stream",
     "text": [
      "Evaluating first forest.\n",
      "Accuracy on test set:  0.9\n",
      "Confusion Matrix:\n",
      "[[ 9  1  0  0]\n",
      " [ 0 10  0  0]\n",
      " [ 0  0  9  1]\n",
      " [ 0  0  2  8]]\n"
     ]
    }
   ],
   "source": [
    "# evaluate on test data\n",
    "import numpy as np\n",
    "\n",
    "def evaluate_forest(forest):\n",
    "    y_pred = np.empty(Y_test.shape)\n",
    "    s = 0\n",
    "    for i, img in enumerate(X_test):\n",
    "        y_pred[i] = np.argmax(forest.predict(X_test[i]))\n",
    "        if Y_test[i] == y_pred[i]:\n",
    "            s += 1 \n",
    "    accuracy = s / len(X_test)\n",
    "    print(\"Accuracy on test set: \", accuracy)\n",
    "\n",
    "    matrix = confusion_matrix(Y_test, y_pred)\n",
    "    print(\"Confusion Matrix:\")\n",
    "    print(matrix)\n",
    "\n",
    "print(\"Evaluating first forest.\")\n",
    "evaluate_forest(forest)"
   ]
  },
  {
   "cell_type": "code",
   "execution_count": 9,
   "metadata": {},
   "outputs": [
    {
     "name": "stdout",
     "output_type": "stream",
     "text": [
      "TREE NR.  0\n",
      "Processing new split node...\n"
     ]
    },
    {
     "name": "stderr",
     "output_type": "stream",
     "text": [
      "100%|██████████| 1000/1000 [05:01<00:00,  3.32it/s]\n"
     ]
    },
    {
     "name": "stdout",
     "output_type": "stream",
     "text": [
      "Best IG:  0.44  with params  (array([203, 286]), array([211, 399]), 0, array([139, 278]), 194)\n",
      "Processing new split node...\n"
     ]
    },
    {
     "name": "stderr",
     "output_type": "stream",
     "text": [
      "100%|██████████| 1000/1000 [00:26<00:00, 37.88it/s]\n"
     ]
    },
    {
     "name": "stdout",
     "output_type": "stream",
     "text": [
      "Best IG:  0.37  with params  (array([268, 308]), array([322, 192]), 2, array([105, 400]), -96)\n",
      "Processing new split node...\n"
     ]
    },
    {
     "name": "stderr",
     "output_type": "stream",
     "text": [
      "100%|██████████| 1000/1000 [00:10<00:00, 92.58it/s]\n"
     ]
    },
    {
     "name": "stdout",
     "output_type": "stream",
     "text": [
      "Best IG:  0.26  with params  (array([355, 288]), array([144, 247]), 2, array([264, 461]), -66)\n",
      "new leaf has  44  labels with distribution  [0. 0. 0. 1.] !\n",
      "Processing new split node...\n"
     ]
    },
    {
     "name": "stderr",
     "output_type": "stream",
     "text": [
      "100%|██████████| 1000/1000 [00:05<00:00, 199.12it/s]\n"
     ]
    },
    {
     "name": "stdout",
     "output_type": "stream",
     "text": [
      "Best IG:  0.32  with params  (array([186, 423]), array([ 53, 217]), 2, array([ 23, 113]), 36)\n",
      "new leaf has  6  labels with distribution  [0. 0. 1. 0.] !\n",
      "Processing new split node...\n"
     ]
    },
    {
     "name": "stderr",
     "output_type": "stream",
     "text": [
      "100%|██████████| 1000/1000 [00:03<00:00, 252.53it/s]\n"
     ]
    },
    {
     "name": "stdout",
     "output_type": "stream",
     "text": [
      "Best IG:  0.39  with params  (array([137, 331]), array([203, 321]), 2, array([ 31, 398]), -18)\n",
      "Processing new split node...\n"
     ]
    },
    {
     "name": "stderr",
     "output_type": "stream",
     "text": [
      "100%|██████████| 1000/1000 [00:02<00:00, 371.20it/s]\n"
     ]
    },
    {
     "name": "stdout",
     "output_type": "stream",
     "text": [
      "Best IG:  0.32  with params  (array([225, 284]), array([ 68, 375]), 1, array([ 92, 172]), 37)\n",
      "new leaf has  16  labels with distribution  [0. 0. 0. 1.] !\n",
      "new leaf has  1  labels with distribution  [0. 0. 1. 0.] !\n",
      "Processing new split node...\n"
     ]
    },
    {
     "name": "stderr",
     "output_type": "stream",
     "text": [
      "100%|██████████| 1000/1000 [00:01<00:00, 652.32it/s]\n"
     ]
    },
    {
     "name": "stdout",
     "output_type": "stream",
     "text": [
      "Best IG:  0.95  with params  (array([162, 352]), array([254, 156]), 1, array([248, 119]), 252)\n",
      "new leaf has  5  labels with distribution  [0. 0. 1. 0.] !\n",
      "new leaf has  3  labels with distribution  [0.         0.33333333 0.         0.66666667] !\n",
      "Processing new split node...\n"
     ]
    },
    {
     "name": "stderr",
     "output_type": "stream",
     "text": [
      "100%|██████████| 1000/1000 [00:14<00:00, 69.56it/s]\n"
     ]
    },
    {
     "name": "stdout",
     "output_type": "stream",
     "text": [
      "Best IG:  0.23  with params  (array([247, 189]), array([212, 328]), 0, array([ 16, 467]), 119)\n",
      "Processing new split node...\n"
     ]
    },
    {
     "name": "stderr",
     "output_type": "stream",
     "text": [
      "100%|██████████| 1000/1000 [00:13<00:00, 74.77it/s]\n"
     ]
    },
    {
     "name": "stdout",
     "output_type": "stream",
     "text": [
      "Best IG:  0.25  with params  (array([101, 296]), array([309, 439]), 0, array([ 18, 335]), 225)\n",
      "Processing new split node...\n"
     ]
    },
    {
     "name": "stderr",
     "output_type": "stream",
     "text": [
      "100%|██████████| 1000/1000 [00:10<00:00, 98.47it/s]\n"
     ]
    },
    {
     "name": "stdout",
     "output_type": "stream",
     "text": [
      "Best IG:  0.24  with params  (array([172, 469]), array([265, 185]), 2, array([252, 214]), -203)\n",
      "Processing new split node...\n"
     ]
    },
    {
     "name": "stderr",
     "output_type": "stream",
     "text": [
      "100%|██████████| 1000/1000 [00:02<00:00, 446.03it/s]\n"
     ]
    },
    {
     "name": "stdout",
     "output_type": "stream",
     "text": [
      "Best IG:  0.89  with params  (array([ 51, 377]), array([248, 281]), 2, array([160, 431]), -103)\n",
      "new leaf has  9  labels with distribution  [0. 0. 0. 1.] !\n",
      "new leaf has  4  labels with distribution  [0.   0.25 0.75 0.  ] !\n",
      "Processing new split node...\n"
     ]
    },
    {
     "name": "stderr",
     "output_type": "stream",
     "text": [
      "100%|██████████| 1000/1000 [00:09<00:00, 105.97it/s]\n"
     ]
    },
    {
     "name": "stdout",
     "output_type": "stream",
     "text": [
      "Best IG:  0.13  with params  (array([140, 460]), array([ 31, 453]), 2, array([299, 192]), -21)\n",
      "new leaf has  33  labels with distribution  [0.06060606 0.         0.93939394 0.        ] !\n",
      "new leaf has  31  labels with distribution  [0.         0.03225806 0.80645161 0.16129032] !\n",
      "Processing new split node...\n"
     ]
    },
    {
     "name": "stderr",
     "output_type": "stream",
     "text": [
      "100%|██████████| 1000/1000 [00:02<00:00, 337.50it/s]\n"
     ]
    },
    {
     "name": "stdout",
     "output_type": "stream",
     "text": [
      "Best IG:  0.97  with params  (array([31, 57]), array([293, 341]), 0, array([254, 249]), 238)\n",
      "new leaf has  9  labels with distribution  [0. 1. 0. 0.] !\n",
      "Processing new split node...\n"
     ]
    },
    {
     "name": "stderr",
     "output_type": "stream",
     "text": [
      "100%|██████████| 1000/1000 [00:01<00:00, 584.80it/s]\n"
     ]
    },
    {
     "name": "stdout",
     "output_type": "stream",
     "text": [
      "Best IG:  1.0  with params  (array([ 75, 253]), array([15, 82]), 1, array([ 22, 189]), -33)\n",
      "new leaf has  3  labels with distribution  [0. 0. 1. 0.] !\n",
      "new leaf has  3  labels with distribution  [0.33333333 0.         0.         0.66666667] !\n",
      "Processing new split node...\n"
     ]
    },
    {
     "name": "stderr",
     "output_type": "stream",
     "text": [
      "100%|██████████| 1000/1000 [00:02<00:00, 419.82it/s]\n"
     ]
    },
    {
     "name": "stdout",
     "output_type": "stream",
     "text": [
      "Best IG:  1.0  with params  (array([105, 324]), array([302, 135]), 1, array([183, 423]), 149)\n",
      "new leaf has  7  labels with distribution  [0. 1. 0. 0.] !\n",
      "Processing new split node...\n"
     ]
    },
    {
     "name": "stderr",
     "output_type": "stream",
     "text": [
      "100%|██████████| 1000/1000 [00:01<00:00, 795.54it/s]\n"
     ]
    },
    {
     "name": "stdout",
     "output_type": "stream",
     "text": [
      "Best IG:  0.65  with params  (array([209, 417]), array([240, 493]), 1, array([ 70, 359]), 63)\n",
      "new leaf has  1  labels with distribution  [0. 0. 1. 0.] !\n",
      "new leaf has  5  labels with distribution  [1. 0. 0. 0.] !\n",
      "Processing new split node...\n"
     ]
    },
    {
     "name": "stderr",
     "output_type": "stream",
     "text": [
      "100%|██████████| 1000/1000 [00:18<00:00, 52.65it/s]\n"
     ]
    },
    {
     "name": "stdout",
     "output_type": "stream",
     "text": [
      "Best IG:  0.57  with params  (array([206, 202]), array([115, 417]), 1, array([317, 477]), 171)\n",
      "Processing new split node...\n"
     ]
    },
    {
     "name": "stderr",
     "output_type": "stream",
     "text": [
      "100%|██████████| 1000/1000 [00:07<00:00, 126.45it/s]\n"
     ]
    },
    {
     "name": "stdout",
     "output_type": "stream",
     "text": [
      "Best IG:  0.31  with params  (array([179, 299]), array([271, 120]), 0, array([127, 439]), -86)\n",
      "Processing new split node...\n"
     ]
    },
    {
     "name": "stderr",
     "output_type": "stream",
     "text": [
      "100%|██████████| 1000/1000 [00:07<00:00, 134.59it/s]\n"
     ]
    },
    {
     "name": "stdout",
     "output_type": "stream",
     "text": [
      "Best IG:  0.24  with params  (array([ 20, 351]), array([ 78, 459]), 2, array([ 90, 256]), 197)\n",
      "new leaf has  2  labels with distribution  [1. 0. 0. 0.] !\n",
      "new leaf has  49  labels with distribution  [0. 1. 0. 0.] !\n",
      "Processing new split node...\n"
     ]
    },
    {
     "name": "stderr",
     "output_type": "stream",
     "text": [
      "100%|██████████| 1000/1000 [00:01<00:00, 796.81it/s]\n"
     ]
    },
    {
     "name": "stdout",
     "output_type": "stream",
     "text": [
      "Best IG:  0.92  with params  (array([117, 156]), array([ 93, 355]), 1, array([169,  70]), -17)\n",
      "new leaf has  4  labels with distribution  [0. 0. 1. 0.] !\n",
      "new leaf has  2  labels with distribution  [0.5 0.5 0.  0. ] !\n",
      "Processing new split node...\n"
     ]
    },
    {
     "name": "stderr",
     "output_type": "stream",
     "text": [
      "100%|██████████| 1000/1000 [00:10<00:00, 91.81it/s]\n"
     ]
    },
    {
     "name": "stdout",
     "output_type": "stream",
     "text": [
      "Best IG:  0.37  with params  (array([ 55, 386]), array([ 87, 164]), 2, array([  7, 391]), -93)\n",
      "Processing new split node...\n"
     ]
    },
    {
     "name": "stderr",
     "output_type": "stream",
     "text": [
      "100%|██████████| 1000/1000 [00:02<00:00, 499.25it/s]\n"
     ]
    },
    {
     "name": "stdout",
     "output_type": "stream",
     "text": [
      "Best IG:  0.65  with params  (array([302, 312]), array([ 35, 215]), 0, array([ 48, 346]), -117)\n",
      "new leaf has  2  labels with distribution  [0. 1. 0. 0.] !\n",
      "Processing new split node...\n"
     ]
    },
    {
     "name": "stderr",
     "output_type": "stream",
     "text": [
      "100%|██████████| 1000/1000 [00:01<00:00, 567.86it/s]\n"
     ]
    },
    {
     "name": "stdout",
     "output_type": "stream",
     "text": [
      "Best IG:  0.72  with params  (array([68, 85]), array([ 51, 298]), 2, array([144, 298]), -10)\n",
      "new leaf has  2  labels with distribution  [1. 0. 0. 0.] !\n",
      "new leaf has  8  labels with distribution  [0. 0. 0. 1.] !\n",
      "Processing new split node...\n"
     ]
    },
    {
     "name": "stderr",
     "output_type": "stream",
     "text": [
      "100%|██████████| 1000/1000 [00:09<00:00, 106.09it/s]\n"
     ]
    },
    {
     "name": "stdout",
     "output_type": "stream",
     "text": [
      "Best IG:  0.24  with params  (array([211,  44]), array([306, 464]), 1, array([302, 254]), -123)\n",
      "Processing new split node...\n"
     ]
    },
    {
     "name": "stderr",
     "output_type": "stream",
     "text": [
      "100%|██████████| 1000/1000 [00:08<00:00, 114.14it/s]\n"
     ]
    },
    {
     "name": "stdout",
     "output_type": "stream",
     "text": [
      "Best IG:  0.2  with params  (array([315, 371]), array([214, 344]), 2, array([168, 175]), -151)\n",
      "new leaf has  2  labels with distribution  [0. 0. 1. 0.] !\n",
      "Processing new split node...\n"
     ]
    },
    {
     "name": "stderr",
     "output_type": "stream",
     "text": [
      "100%|██████████| 1000/1000 [00:08<00:00, 117.34it/s]\n"
     ]
    },
    {
     "name": "stdout",
     "output_type": "stream",
     "text": [
      "Best IG:  0.11  with params  (array([363, 264]), array([ 43, 373]), 0, array([ 96, 340]), -181)\n",
      "new leaf has  57  labels with distribution  [1. 0. 0. 0.] !\n",
      "new leaf has  7  labels with distribution  [0.71428571 0.28571429 0.         0.        ] !\n",
      "Processing new split node...\n"
     ]
    },
    {
     "name": "stderr",
     "output_type": "stream",
     "text": [
      "100%|██████████| 1000/1000 [00:01<00:00, 878.73it/s]\n"
     ]
    },
    {
     "name": "stdout",
     "output_type": "stream",
     "text": [
      "Best IG:  0.97  with params  (array([133,   6]), array([ 20, 478]), 0, array([ 14, 175]), 243)\n",
      "new leaf has  3  labels with distribution  [0. 1. 0. 0.] !\n",
      "new leaf has  2  labels with distribution  [0. 0. 1. 0.] !\n",
      "TREE NR.  1\n",
      "Processing new split node...\n"
     ]
    },
    {
     "name": "stderr",
     "output_type": "stream",
     "text": [
      "100%|██████████| 1000/1000 [00:51<00:00, 19.50it/s]\n"
     ]
    },
    {
     "name": "stdout",
     "output_type": "stream",
     "text": [
      "Best IG:  0.33  with params  (array([101, 490]), array([345, 253]), 1, array([ 59, 430]), -231)\n",
      "Processing new split node...\n"
     ]
    },
    {
     "name": "stderr",
     "output_type": "stream",
     "text": [
      "100%|██████████| 1000/1000 [00:14<00:00, 69.30it/s]\n"
     ]
    },
    {
     "name": "stdout",
     "output_type": "stream",
     "text": [
      "Best IG:  0.55  with params  (array([332, 270]), array([ 21, 405]), 2, array([103, 311]), -199)\n",
      "Processing new split node...\n"
     ]
    },
    {
     "name": "stderr",
     "output_type": "stream",
     "text": [
      "100%|██████████| 1000/1000 [00:05<00:00, 195.01it/s]\n"
     ]
    },
    {
     "name": "stdout",
     "output_type": "stream",
     "text": [
      "Best IG:  0.25  with params  (array([ 17, 308]), array([363, 304]), 0, array([ 20, 353]), 63)\n",
      "Processing new split node...\n"
     ]
    },
    {
     "name": "stderr",
     "output_type": "stream",
     "text": [
      "100%|██████████| 1000/1000 [00:02<00:00, 470.37it/s]\n"
     ]
    },
    {
     "name": "stdout",
     "output_type": "stream",
     "text": [
      "Best IG:  0.78  with params  (array([302, 340]), array([ 82, 311]), 1, array([267,  95]), -162)\n",
      "new leaf has  3  labels with distribution  [0.66666667 0.33333333 0.         0.        ] !\n",
      "Processing new split node...\n"
     ]
    },
    {
     "name": "stderr",
     "output_type": "stream",
     "text": [
      "100%|██████████| 1000/1000 [00:02<00:00, 483.09it/s]\n"
     ]
    },
    {
     "name": "stdout",
     "output_type": "stream",
     "text": [
      "Best IG:  0.56  with params  (array([318, 499]), array([296, 296]), 2, array([ 68, 341]), -197)\n",
      "new leaf has  4  labels with distribution  [0.   0.   0.75 0.25] !\n",
      "new leaf has  6  labels with distribution  [0. 0. 0. 1.] !\n",
      "Processing new split node...\n"
     ]
    },
    {
     "name": "stderr",
     "output_type": "stream",
     "text": [
      "100%|██████████| 1000/1000 [00:04<00:00, 228.05it/s]\n"
     ]
    },
    {
     "name": "stdout",
     "output_type": "stream",
     "text": [
      "Best IG:  0.25  with params  (array([ 17, 382]), array([226,  80]), 0, array([ 82, 350]), -67)\n",
      "new leaf has  23  labels with distribution  [0. 0. 0. 1.] !\n",
      "new leaf has  1  labels with distribution  [0. 1. 0. 0.] !\n",
      "Processing new split node...\n"
     ]
    },
    {
     "name": "stderr",
     "output_type": "stream",
     "text": [
      "100%|██████████| 1000/1000 [00:10<00:00, 99.56it/s]\n"
     ]
    },
    {
     "name": "stdout",
     "output_type": "stream",
     "text": [
      "Best IG:  0.26  with params  (array([ 64, 398]), array([ 28, 459]), 0, array([ 56, 212]), 69)\n",
      "Processing new split node...\n"
     ]
    },
    {
     "name": "stderr",
     "output_type": "stream",
     "text": [
      "100%|██████████| 1000/1000 [00:03<00:00, 264.13it/s]\n"
     ]
    },
    {
     "name": "stdout",
     "output_type": "stream",
     "text": [
      "Best IG:  0.53  with params  (array([311, 216]), array([274, 419]), 0, array([114, 264]), 60)\n",
      "new leaf has  3  labels with distribution  [0. 1. 0. 0.] !\n",
      "Processing new split node...\n"
     ]
    },
    {
     "name": "stderr",
     "output_type": "stream",
     "text": [
      "100%|██████████| 1000/1000 [00:03<00:00, 301.30it/s]\n"
     ]
    },
    {
     "name": "stdout",
     "output_type": "stream",
     "text": [
      "Best IG:  0.37  with params  (array([202, 126]), array([122,  68]), 0, array([117, 132]), 32)\n",
      "new leaf has  4  labels with distribution  [0. 0. 1. 0.] !\n",
      "Processing new split node...\n"
     ]
    },
    {
     "name": "stderr",
     "output_type": "stream",
     "text": [
      "100%|██████████| 1000/1000 [00:02<00:00, 361.79it/s]\n"
     ]
    },
    {
     "name": "stdout",
     "output_type": "stream",
     "text": [
      "Best IG:  0.65  with params  (array([ 89, 486]), array([308, 166]), 0, array([314, 228]), -231)\n",
      "new leaf has  3  labels with distribution  [0. 0. 1. 0.] !\n",
      "new leaf has  15  labels with distribution  [1. 0. 0. 0.] !\n",
      "Processing new split node...\n"
     ]
    },
    {
     "name": "stderr",
     "output_type": "stream",
     "text": [
      "100%|██████████| 1000/1000 [00:06<00:00, 144.53it/s]\n"
     ]
    },
    {
     "name": "stdout",
     "output_type": "stream",
     "text": [
      "Best IG:  0.34  with params  (array([168, 206]), array([300, 102]), 0, array([120, 323]), 102)\n",
      "new leaf has  44  labels with distribution  [1. 0. 0. 0.] !\n",
      "new leaf has  3  labels with distribution  [0. 0. 0. 1.] !\n",
      "Processing new split node...\n"
     ]
    },
    {
     "name": "stderr",
     "output_type": "stream",
     "text": [
      "100%|██████████| 1000/1000 [00:28<00:00, 35.42it/s]\n"
     ]
    },
    {
     "name": "stdout",
     "output_type": "stream",
     "text": [
      "Best IG:  0.43  with params  (array([297, 490]), array([153, 397]), 0, array([153, 270]), -37)\n",
      "Processing new split node...\n"
     ]
    },
    {
     "name": "stderr",
     "output_type": "stream",
     "text": [
      "100%|██████████| 1000/1000 [00:12<00:00, 81.23it/s]\n"
     ]
    },
    {
     "name": "stdout",
     "output_type": "stream",
     "text": [
      "Best IG:  0.38  with params  (array([257, 316]), array([134, 339]), 2, array([ 93, 145]), -38)\n",
      "Processing new split node...\n"
     ]
    },
    {
     "name": "stderr",
     "output_type": "stream",
     "text": [
      "100%|██████████| 1000/1000 [00:08<00:00, 111.82it/s]\n"
     ]
    },
    {
     "name": "stdout",
     "output_type": "stream",
     "text": [
      "Best IG:  0.12  with params  (array([171, 370]), array([132, 313]), 0, array([184,  30]), 42)\n",
      "new leaf has  63  labels with distribution  [0. 1. 0. 0.] !\n",
      "new leaf has  1  labels with distribution  [0. 0. 0. 1.] !\n",
      "Processing new split node...\n"
     ]
    },
    {
     "name": "stderr",
     "output_type": "stream",
     "text": [
      "100%|██████████| 1000/1000 [00:03<00:00, 305.34it/s]\n"
     ]
    },
    {
     "name": "stdout",
     "output_type": "stream",
     "text": [
      "Best IG:  0.62  with params  (array([246, 366]), array([ 88, 253]), 0, array([235,  10]), -113)\n",
      "Processing new split node...\n"
     ]
    },
    {
     "name": "stderr",
     "output_type": "stream",
     "text": [
      "100%|██████████| 1000/1000 [00:02<00:00, 475.51it/s]\n"
     ]
    },
    {
     "name": "stdout",
     "output_type": "stream",
     "text": [
      "Best IG:  0.78  with params  (array([286,  28]), array([45, 71]), 0, array([ 93, 317]), -22)\n",
      "new leaf has  10  labels with distribution  [0. 0. 1. 0.] !\n",
      "new leaf has  3  labels with distribution  [0.66666667 0.33333333 0.         0.        ] !\n",
      "Processing new split node...\n"
     ]
    },
    {
     "name": "stderr",
     "output_type": "stream",
     "text": [
      "100%|██████████| 1000/1000 [00:01<00:00, 652.74it/s]\n"
     ]
    },
    {
     "name": "stdout",
     "output_type": "stream",
     "text": [
      "Best IG:  0.54  with params  (array([  7, 335]), array([ 85, 320]), 0, array([104, 131]), 38)\n",
      "new leaf has  7  labels with distribution  [0. 1. 0. 0.] !\n",
      "new leaf has  1  labels with distribution  [1. 0. 0. 0.] !\n",
      "Processing new split node...\n"
     ]
    },
    {
     "name": "stderr",
     "output_type": "stream",
     "text": [
      "100%|██████████| 1000/1000 [00:16<00:00, 59.85it/s]\n"
     ]
    },
    {
     "name": "stdout",
     "output_type": "stream",
     "text": [
      "Best IG:  0.42  with params  (array([244, 148]), array([203, 247]), 2, array([281, 412]), -171)\n",
      "Processing new split node...\n"
     ]
    },
    {
     "name": "stderr",
     "output_type": "stream",
     "text": [
      "100%|██████████| 1000/1000 [00:07<00:00, 128.07it/s]\n"
     ]
    },
    {
     "name": "stdout",
     "output_type": "stream",
     "text": [
      "Best IG:  0.32  with params  (array([209, 146]), array([222, 397]), 2, array([197, 220]), 183)\n",
      "Processing new split node...\n"
     ]
    },
    {
     "name": "stderr",
     "output_type": "stream",
     "text": [
      "100%|██████████| 1000/1000 [00:05<00:00, 196.77it/s]\n"
     ]
    },
    {
     "name": "stdout",
     "output_type": "stream",
     "text": [
      "Best IG:  0.44  with params  (array([268,   7]), array([181, 166]), 0, array([ 91, 149]), -23)\n",
      "Processing new split node...\n"
     ]
    },
    {
     "name": "stderr",
     "output_type": "stream",
     "text": [
      "100%|██████████| 1000/1000 [00:03<00:00, 328.95it/s]\n"
     ]
    },
    {
     "name": "stdout",
     "output_type": "stream",
     "text": [
      "Best IG:  0.62  with params  (array([146,  63]), array([  4, 230]), 0, array([ 11, 197]), -83)\n",
      "new leaf has  4  labels with distribution  [0.25 0.   0.75 0.  ] !\n",
      "new leaf has  16  labels with distribution  [0.0625 0.     0.     0.9375] !\n",
      "Processing new split node...\n"
     ]
    },
    {
     "name": "stderr",
     "output_type": "stream",
     "text": [
      "100%|██████████| 1000/1000 [00:02<00:00, 383.44it/s]\n"
     ]
    },
    {
     "name": "stdout",
     "output_type": "stream",
     "text": [
      "Best IG:  0.52  with params  (array([314,  83]), array([ 46, 357]), 2, array([110, 153]), -48)\n",
      "new leaf has  2  labels with distribution  [0. 0. 0. 1.] !\n",
      "new leaf has  15  labels with distribution  [0. 0. 1. 0.] !\n",
      "Processing new split node...\n"
     ]
    },
    {
     "name": "stderr",
     "output_type": "stream",
     "text": [
      "100%|██████████| 1000/1000 [00:03<00:00, 281.22it/s]\n"
     ]
    },
    {
     "name": "stdout",
     "output_type": "stream",
     "text": [
      "Best IG:  0.47  with params  (array([143, 223]), array([195,  10]), 0, array([ 75, 314]), -59)\n",
      "new leaf has  2  labels with distribution  [0. 1. 0. 0.] !\n",
      "new leaf has  18  labels with distribution  [0. 0. 0. 1.] !\n",
      "Processing new split node...\n"
     ]
    },
    {
     "name": "stderr",
     "output_type": "stream",
     "text": [
      "100%|██████████| 1000/1000 [00:09<00:00, 100.61it/s]\n"
     ]
    },
    {
     "name": "stdout",
     "output_type": "stream",
     "text": [
      "Best IG:  0.51  with params  (array([108, 198]), array([281, 172]), 0, array([223, 494]), 238)\n",
      "Processing new split node...\n"
     ]
    },
    {
     "name": "stderr",
     "output_type": "stream",
     "text": [
      "100%|██████████| 1000/1000 [00:07<00:00, 137.27it/s]\n"
     ]
    },
    {
     "name": "stdout",
     "output_type": "stream",
     "text": [
      "Best IG:  0.24  with params  (array([ 42, 385]), array([296, 145]), 0, array([ 27, 408]), -156)\n",
      "new leaf has  2  labels with distribution  [1. 0. 0. 0.] !\n",
      "Processing new split node...\n"
     ]
    },
    {
     "name": "stderr",
     "output_type": "stream",
     "text": [
      "100%|██████████| 1000/1000 [00:06<00:00, 153.96it/s]\n"
     ]
    },
    {
     "name": "stdout",
     "output_type": "stream",
     "text": [
      "Best IG:  0.15  with params  (array([219,  76]), array([334, 422]), 0, array([335,  49]), 155)\n",
      "new leaf has  47  labels with distribution  [0. 0. 1. 0.] !\n",
      "new leaf has  1  labels with distribution  [0. 1. 0. 0.] !\n",
      "Processing new split node...\n"
     ]
    },
    {
     "name": "stderr",
     "output_type": "stream",
     "text": [
      "100%|██████████| 1000/1000 [00:02<00:00, 339.79it/s]\n"
     ]
    },
    {
     "name": "stdout",
     "output_type": "stream",
     "text": [
      "Best IG:  0.61  with params  (array([145, 421]), array([133, 155]), 1, array([294, 413]), -249)\n",
      "Processing new split node...\n"
     ]
    },
    {
     "name": "stderr",
     "output_type": "stream",
     "text": [
      "100%|██████████| 1000/1000 [00:01<00:00, 798.72it/s]\n"
     ]
    },
    {
     "name": "stdout",
     "output_type": "stream",
     "text": [
      "Best IG:  0.92  with params  (array([323, 162]), array([204, 446]), 0, array([66, 80]), 37)\n",
      "new leaf has  4  labels with distribution  [1. 0. 0. 0.] !\n",
      "new leaf has  2  labels with distribution  [0. 0. 1. 0.] !\n",
      "Processing new split node...\n"
     ]
    },
    {
     "name": "stderr",
     "output_type": "stream",
     "text": [
      "100%|██████████| 1000/1000 [00:02<00:00, 459.77it/s]\n"
     ]
    },
    {
     "name": "stdout",
     "output_type": "stream",
     "text": [
      "Best IG:  0.62  with params  (array([369, 290]), array([371, 411]), 1, array([80, 82]), 132)\n",
      "new leaf has  11  labels with distribution  [0. 1. 0. 0.] !\n",
      "new leaf has  2  labels with distribution  [1. 0. 0. 0.] !\n",
      "TREE NR.  2\n",
      "Processing new split node...\n"
     ]
    },
    {
     "name": "stderr",
     "output_type": "stream",
     "text": [
      "100%|██████████| 1000/1000 [00:52<00:00, 18.92it/s]\n"
     ]
    },
    {
     "name": "stdout",
     "output_type": "stream",
     "text": [
      "Best IG:  0.41  with params  (array([150, 394]), array([191, 336]), 0, array([158, 216]), -251)\n",
      "Processing new split node...\n"
     ]
    },
    {
     "name": "stderr",
     "output_type": "stream",
     "text": [
      "100%|██████████| 1000/1000 [00:20<00:00, 48.01it/s]\n"
     ]
    },
    {
     "name": "stdout",
     "output_type": "stream",
     "text": [
      "Best IG:  0.52  with params  (array([110, 236]), array([324, 481]), 1, array([179, 334]), -208)\n",
      "Processing new split node...\n"
     ]
    },
    {
     "name": "stderr",
     "output_type": "stream",
     "text": [
      "100%|██████████| 1000/1000 [00:10<00:00, 92.38it/s]\n"
     ]
    },
    {
     "name": "stdout",
     "output_type": "stream",
     "text": [
      "Best IG:  0.43  with params  (array([332,  52]), array([136,  78]), 2, array([340, 362]), -108)\n",
      "Processing new split node...\n"
     ]
    },
    {
     "name": "stderr",
     "output_type": "stream",
     "text": [
      "100%|██████████| 1000/1000 [00:02<00:00, 471.70it/s]\n"
     ]
    },
    {
     "name": "stdout",
     "output_type": "stream",
     "text": [
      "Best IG:  0.39  with params  (array([343, 402]), array([122, 375]), 0, array([358, 243]), -76)\n",
      "new leaf has  1  labels with distribution  [0. 0. 1. 0.] !\n",
      "new leaf has  12  labels with distribution  [0. 0. 0. 1.] !\n",
      "Processing new split node...\n"
     ]
    },
    {
     "name": "stderr",
     "output_type": "stream",
     "text": [
      "100%|██████████| 1000/1000 [00:10<00:00, 94.56it/s]\n"
     ]
    },
    {
     "name": "stdout",
     "output_type": "stream",
     "text": [
      "Best IG:  0.27  with params  (array([272, 171]), array([229,  37]), 0, array([264,  67]), -170)\n",
      "Processing new split node...\n"
     ]
    },
    {
     "name": "stderr",
     "output_type": "stream",
     "text": [
      "100%|██████████| 1000/1000 [00:09<00:00, 110.41it/s]\n"
     ]
    },
    {
     "name": "stdout",
     "output_type": "stream",
     "text": [
      "Best IG:  0.23  with params  (array([142, 383]), array([231, 388]), 1, array([343, 356]), -87)\n",
      "Processing new split node...\n"
     ]
    },
    {
     "name": "stderr",
     "output_type": "stream",
     "text": [
      "100%|██████████| 1000/1000 [00:07<00:00, 130.89it/s]\n"
     ]
    },
    {
     "name": "stdout",
     "output_type": "stream",
     "text": [
      "Best IG:  0.14  with params  (array([ 16, 337]), array([365, 281]), 2, array([291,  38]), 181)\n",
      "new leaf has  3  labels with distribution  [0.33333333 0.         0.33333333 0.33333333] !\n",
      "new leaf has  54  labels with distribution  [0.98148148 0.         0.         0.01851852] !\n",
      "Processing new split node...\n"
     ]
    },
    {
     "name": "stderr",
     "output_type": "stream",
     "text": [
      "100%|██████████| 1000/1000 [00:01<00:00, 718.39it/s]\n"
     ]
    },
    {
     "name": "stdout",
     "output_type": "stream",
     "text": [
      "Best IG:  0.99  with params  (array([295, 362]), array([333, 183]), 0, array([ 25, 327]), -41)\n",
      "new leaf has  3  labels with distribution  [1. 0. 0. 0.] !\n",
      "new leaf has  4  labels with distribution  [0. 1. 0. 0.] !\n",
      "Processing new split node...\n"
     ]
    },
    {
     "name": "stderr",
     "output_type": "stream",
     "text": [
      "100%|██████████| 1000/1000 [00:01<00:00, 892.86it/s]\n"
     ]
    },
    {
     "name": "stdout",
     "output_type": "stream",
     "text": [
      "Best IG:  0.97  with params  (array([276, 364]), array([166, 313]), 1, array([ 89, 225]), -80)\n",
      "new leaf has  2  labels with distribution  [0. 0. 0. 1.] !\n",
      "new leaf has  3  labels with distribution  [0. 0. 1. 0.] !\n",
      "Processing new split node...\n"
     ]
    },
    {
     "name": "stderr",
     "output_type": "stream",
     "text": [
      "100%|██████████| 1000/1000 [00:09<00:00, 103.79it/s]\n"
     ]
    },
    {
     "name": "stdout",
     "output_type": "stream",
     "text": [
      "Best IG:  0.35  with params  (array([210, 227]), array([154, 441]), 1, array([224, 398]), 245)\n",
      "Processing new split node...\n"
     ]
    },
    {
     "name": "stderr",
     "output_type": "stream",
     "text": [
      "100%|██████████| 1000/1000 [00:06<00:00, 154.61it/s]\n"
     ]
    },
    {
     "name": "stdout",
     "output_type": "stream",
     "text": [
      "Best IG:  0.16  with params  (array([ 96, 273]), array([347, 446]), 2, array([164, 339]), -230)\n",
      "new leaf has  43  labels with distribution  [0. 1. 0. 0.] !\n",
      "new leaf has  1  labels with distribution  [1. 0. 0. 0.] !\n",
      "Processing new split node...\n"
     ]
    },
    {
     "name": "stderr",
     "output_type": "stream",
     "text": [
      "100%|██████████| 1000/1000 [00:03<00:00, 323.42it/s]\n"
     ]
    },
    {
     "name": "stdout",
     "output_type": "stream",
     "text": [
      "Best IG:  0.68  with params  (array([307, 347]), array([198, 428]), 0, array([104, 259]), 94)\n",
      "new leaf has  6  labels with distribution  [0. 1. 0. 0.] !\n",
      "Processing new split node...\n"
     ]
    },
    {
     "name": "stderr",
     "output_type": "stream",
     "text": [
      "100%|██████████| 1000/1000 [00:02<00:00, 463.61it/s]\n"
     ]
    },
    {
     "name": "stdout",
     "output_type": "stream",
     "text": [
      "Best IG:  0.96  with params  (array([ 65, 306]), array([141,  74]), 2, array([255, 490]), -131)\n",
      "new leaf has  8  labels with distribution  [1. 0. 0. 0.] !\n",
      "Processing new split node...\n"
     ]
    },
    {
     "name": "stderr",
     "output_type": "stream",
     "text": [
      "100%|██████████| 1000/1000 [00:01<00:00, 886.51it/s]\n"
     ]
    },
    {
     "name": "stdout",
     "output_type": "stream",
     "text": [
      "Best IG:  0.72  with params  (array([166, 283]), array([125, 372]), 1, array([330,  61]), 11)\n",
      "new leaf has  4  labels with distribution  [0. 0. 1. 0.] !\n",
      "new leaf has  1  labels with distribution  [0. 1. 0. 0.] !\n",
      "Processing new split node...\n"
     ]
    },
    {
     "name": "stderr",
     "output_type": "stream",
     "text": [
      "100%|██████████| 1000/1000 [00:23<00:00, 43.20it/s]\n"
     ]
    },
    {
     "name": "stdout",
     "output_type": "stream",
     "text": [
      "Best IG:  0.44  with params  (array([225, 453]), array([218, 239]), 2, array([281, 479]), -195)\n",
      "Processing new split node...\n"
     ]
    },
    {
     "name": "stderr",
     "output_type": "stream",
     "text": [
      "100%|██████████| 1000/1000 [00:12<00:00, 79.89it/s]\n"
     ]
    },
    {
     "name": "stdout",
     "output_type": "stream",
     "text": [
      "Best IG:  0.26  with params  (array([274, 186]), array([ 86, 338]), 1, array([197,  47]), 44)\n",
      "Processing new split node...\n"
     ]
    },
    {
     "name": "stderr",
     "output_type": "stream",
     "text": [
      "100%|██████████| 1000/1000 [00:01<00:00, 763.94it/s]\n"
     ]
    },
    {
     "name": "stdout",
     "output_type": "stream",
     "text": [
      "Best IG:  0.65  with params  (array([357,  53]), array([  7, 267]), 1, array([11,  5]), 48)\n",
      "new leaf has  1  labels with distribution  [0. 0. 0. 1.] !\n",
      "new leaf has  5  labels with distribution  [0. 1. 0. 0.] !\n",
      "Processing new split node...\n"
     ]
    },
    {
     "name": "stderr",
     "output_type": "stream",
     "text": [
      "100%|██████████| 1000/1000 [00:13<00:00, 75.15it/s]\n"
     ]
    },
    {
     "name": "stdout",
     "output_type": "stream",
     "text": [
      "Best IG:  0.27  with params  (array([130,  20]), array([230,  12]), 0, array([ 53, 133]), 86)\n",
      "Processing new split node...\n"
     ]
    },
    {
     "name": "stderr",
     "output_type": "stream",
     "text": [
      "100%|██████████| 1000/1000 [00:01<00:00, 508.13it/s]\n"
     ]
    },
    {
     "name": "stdout",
     "output_type": "stream",
     "text": [
      "Best IG:  0.44  with params  (array([361, 389]), array([265, 280]), 2, array([199, 136]), -163)\n",
      "new leaf has  10  labels with distribution  [0. 0. 1. 0.] !\n",
      "new leaf has  1  labels with distribution  [0. 0. 0. 1.] !\n",
      "Processing new split node...\n"
     ]
    },
    {
     "name": "stderr",
     "output_type": "stream",
     "text": [
      "100%|██████████| 1000/1000 [00:10<00:00, 95.92it/s]\n"
     ]
    },
    {
     "name": "stdout",
     "output_type": "stream",
     "text": [
      "Best IG:  0.1  with params  (array([354, 418]), array([374, 387]), 2, array([210,  31]), 57)\n",
      "Processing new split node...\n"
     ]
    },
    {
     "name": "stderr",
     "output_type": "stream",
     "text": [
      "100%|██████████| 1000/1000 [00:03<00:00, 296.12it/s]\n"
     ]
    },
    {
     "name": "stdout",
     "output_type": "stream",
     "text": [
      "Best IG:  0.47  with params  (array([184, 450]), array([266,  87]), 0, array([325,  81]), 174)\n",
      "new leaf has  9  labels with distribution  [0.         0.         0.66666667 0.33333333] !\n",
      "new leaf has  14  labels with distribution  [0. 0. 0. 1.] !\n",
      "Processing new split node...\n"
     ]
    },
    {
     "name": "stderr",
     "output_type": "stream",
     "text": [
      "100%|██████████| 1000/1000 [00:07<00:00, 135.43it/s]\n"
     ]
    },
    {
     "name": "stdout",
     "output_type": "stream",
     "text": [
      "Best IG:  0.13  with params  (array([255, 239]), array([205, 241]), 0, array([  1, 357]), -49)\n",
      "new leaf has  1  labels with distribution  [0. 0. 1. 0.] !\n",
      "new leaf has  54  labels with distribution  [0. 0. 0. 1.] !\n",
      "Processing new split node...\n"
     ]
    },
    {
     "name": "stderr",
     "output_type": "stream",
     "text": [
      "100%|██████████| 1000/1000 [00:11<00:00, 87.91it/s]\n"
     ]
    },
    {
     "name": "stdout",
     "output_type": "stream",
     "text": [
      "Best IG:  0.45  with params  (array([ 97, 141]), array([256, 155]), 0, array([76, 18]), 153)\n",
      "new leaf has  13  labels with distribution  [0. 1. 0. 0.] !\n",
      "Processing new split node...\n"
     ]
    },
    {
     "name": "stderr",
     "output_type": "stream",
     "text": [
      "100%|██████████| 1000/1000 [00:09<00:00, 105.97it/s]\n"
     ]
    },
    {
     "name": "stdout",
     "output_type": "stream",
     "text": [
      "Best IG:  0.2  with params  (array([52, 43]), array([ 92, 183]), 0, array([315,  14]), -5)\n",
      "Processing new split node...\n"
     ]
    },
    {
     "name": "stderr",
     "output_type": "stream",
     "text": [
      "100%|██████████| 1000/1000 [00:07<00:00, 138.12it/s]\n"
     ]
    },
    {
     "name": "stdout",
     "output_type": "stream",
     "text": [
      "Best IG:  0.21  with params  (array([121, 311]), array([ 78, 365]), 0, array([286, 209]), -20)\n",
      "Processing new split node...\n"
     ]
    },
    {
     "name": "stderr",
     "output_type": "stream",
     "text": [
      "100%|██████████| 1000/1000 [00:05<00:00, 198.41it/s]\n"
     ]
    },
    {
     "name": "stdout",
     "output_type": "stream",
     "text": [
      "Best IG:  0.19  with params  (array([210,  50]), array([339, 416]), 0, array([ 32, 229]), 156)\n",
      "new leaf has  1  labels with distribution  [0. 1. 0. 0.] !\n",
      "new leaf has  33  labels with distribution  [0. 0. 1. 0.] !\n",
      "Processing new split node...\n"
     ]
    },
    {
     "name": "stderr",
     "output_type": "stream",
     "text": [
      "100%|██████████| 1000/1000 [00:01<00:00, 551.88it/s]\n"
     ]
    },
    {
     "name": "stdout",
     "output_type": "stream",
     "text": [
      "Best IG:  0.99  with params  (array([226, 302]), array([166, 476]), 0, array([24,  8]), -122)\n",
      "new leaf has  4  labels with distribution  [0. 1. 0. 0.] !\n",
      "new leaf has  3  labels with distribution  [0. 0. 1. 0.] !\n",
      "Processing new split node...\n"
     ]
    },
    {
     "name": "stderr",
     "output_type": "stream",
     "text": [
      "100%|██████████| 1000/1000 [00:04<00:00, 236.41it/s]\n"
     ]
    },
    {
     "name": "stdout",
     "output_type": "stream",
     "text": [
      "Best IG:  0.52  with params  (array([211, 256]), array([105, 453]), 1, array([334, 282]), 187)\n",
      "new leaf has  3  labels with distribution  [1. 0. 0. 0.] !\n",
      "Processing new split node...\n"
     ]
    },
    {
     "name": "stderr",
     "output_type": "stream",
     "text": [
      "100%|██████████| 1000/1000 [00:03<00:00, 283.53it/s]\n"
     ]
    },
    {
     "name": "stdout",
     "output_type": "stream",
     "text": [
      "Best IG:  0.42  with params  (array([257, 369]), array([350, 319]), 0, array([ 29, 118]), 62)\n",
      "new leaf has  20  labels with distribution  [0.   0.   0.95 0.05] !\n",
      "new leaf has  3  labels with distribution  [0. 0. 0. 1.] !\n",
      "TREE NR.  3\n",
      "Processing new split node...\n"
     ]
    },
    {
     "name": "stderr",
     "output_type": "stream",
     "text": [
      "100%|██████████| 1000/1000 [01:24<00:00, 11.84it/s]\n"
     ]
    },
    {
     "name": "stdout",
     "output_type": "stream",
     "text": [
      "Best IG:  0.37  with params  (array([295, 382]), array([187, 253]), 0, array([130, 290]), -145)\n",
      "Processing new split node...\n"
     ]
    },
    {
     "name": "stderr",
     "output_type": "stream",
     "text": [
      "100%|██████████| 1000/1000 [00:15<00:00, 63.63it/s]\n"
     ]
    },
    {
     "name": "stdout",
     "output_type": "stream",
     "text": [
      "Best IG:  0.45  with params  (array([232,   4]), array([155,  86]), 1, array([309, 380]), -131)\n",
      "Processing new split node...\n"
     ]
    },
    {
     "name": "stderr",
     "output_type": "stream",
     "text": [
      "100%|██████████| 1000/1000 [00:06<00:00, 165.26it/s]\n"
     ]
    },
    {
     "name": "stdout",
     "output_type": "stream",
     "text": [
      "Best IG:  0.36  with params  (array([246, 119]), array([ 91, 437]), 2, array([ 94, 402]), 116)\n",
      "new leaf has  4  labels with distribution  [0. 0. 0. 1.] !\n",
      "Processing new split node...\n"
     ]
    },
    {
     "name": "stderr",
     "output_type": "stream",
     "text": [
      "100%|██████████| 1000/1000 [00:05<00:00, 179.92it/s]\n"
     ]
    },
    {
     "name": "stdout",
     "output_type": "stream",
     "text": [
      "Best IG:  0.19  with params  (array([221, 472]), array([ 48, 254]), 0, array([153, 431]), -151)\n",
      "Processing new split node...\n"
     ]
    },
    {
     "name": "stderr",
     "output_type": "stream",
     "text": [
      "100%|██████████| 1000/1000 [00:05<00:00, 168.69it/s]\n"
     ]
    },
    {
     "name": "stdout",
     "output_type": "stream",
     "text": [
      "Best IG:  0.13  with params  (array([211, 193]), array([258, 266]), 2, array([265, 157]), 136)\n",
      "new leaf has  2  labels with distribution  [0.5 0.5 0.  0. ] !\n",
      "new leaf has  32  labels with distribution  [1. 0. 0. 0.] !\n",
      "Processing new split node...\n"
     ]
    },
    {
     "name": "stderr",
     "output_type": "stream",
     "text": [
      "100%|██████████| 1000/1000 [00:01<00:00, 781.25it/s]\n"
     ]
    },
    {
     "name": "stdout",
     "output_type": "stream",
     "text": [
      "Best IG:  1.0  with params  (array([207, 248]), array([345, 195]), 1, array([347,   1]), 78)\n",
      "new leaf has  3  labels with distribution  [1. 0. 0. 0.] !\n",
      "new leaf has  3  labels with distribution  [0.         0.33333333 0.33333333 0.33333333] !\n",
      "Processing new split node...\n"
     ]
    },
    {
     "name": "stderr",
     "output_type": "stream",
     "text": [
      "100%|██████████| 1000/1000 [00:09<00:00, 102.48it/s]\n"
     ]
    },
    {
     "name": "stdout",
     "output_type": "stream",
     "text": [
      "Best IG:  0.25  with params  (array([215,  70]), array([123, 213]), 2, array([201, 113]), -57)\n",
      "Processing new split node...\n"
     ]
    },
    {
     "name": "stderr",
     "output_type": "stream",
     "text": [
      "100%|██████████| 1000/1000 [00:07<00:00, 139.70it/s]\n"
     ]
    },
    {
     "name": "stdout",
     "output_type": "stream",
     "text": [
      "Best IG:  0.22  with params  (array([304, 413]), array([33, 11]), 1, array([ 14, 467]), -209)\n",
      "new leaf has  39  labels with distribution  [0. 1. 0. 0.] !\n",
      "Processing new split node...\n"
     ]
    },
    {
     "name": "stderr",
     "output_type": "stream",
     "text": [
      "100%|██████████| 1000/1000 [00:02<00:00, 451.88it/s]\n"
     ]
    },
    {
     "name": "stdout",
     "output_type": "stream",
     "text": [
      "Best IG:  0.5  with params  (array([243, 465]), array([253,  33]), 0, array([  8, 332]), -122)\n",
      "new leaf has  6  labels with distribution  [0. 1. 0. 0.] !\n",
      "Processing new split node...\n"
     ]
    },
    {
     "name": "stderr",
     "output_type": "stream",
     "text": [
      "100%|██████████| 1000/1000 [00:01<00:00, 718.39it/s]\n"
     ]
    },
    {
     "name": "stdout",
     "output_type": "stream",
     "text": [
      "Best IG:  0.86  with params  (array([121, 295]), array([183, 457]), 1, array([339,   4]), -24)\n",
      "new leaf has  2  labels with distribution  [0. 1. 0. 0.] !\n",
      "new leaf has  5  labels with distribution  [1. 0. 0. 0.] !\n",
      "Processing new split node...\n"
     ]
    },
    {
     "name": "stderr",
     "output_type": "stream",
     "text": [
      "100%|██████████| 1000/1000 [00:02<00:00, 353.48it/s]\n"
     ]
    },
    {
     "name": "stdout",
     "output_type": "stream",
     "text": [
      "Best IG:  0.77  with params  (array([255, 144]), array([ 48, 285]), 0, array([171, 273]), -63)\n",
      "Processing new split node...\n"
     ]
    },
    {
     "name": "stderr",
     "output_type": "stream",
     "text": [
      "100%|██████████| 1000/1000 [00:01<00:00, 567.86it/s]\n"
     ]
    },
    {
     "name": "stdout",
     "output_type": "stream",
     "text": [
      "Best IG:  0.47  with params  (array([333, 488]), array([163, 182]), 2, array([313, 325]), 59)\n",
      "new leaf has  1  labels with distribution  [0. 1. 0. 0.] !\n",
      "new leaf has  9  labels with distribution  [1. 0. 0. 0.] !\n",
      "Processing new split node...\n"
     ]
    },
    {
     "name": "stderr",
     "output_type": "stream",
     "text": [
      "100%|██████████| 1000/1000 [00:01<00:00, 653.60it/s]\n"
     ]
    },
    {
     "name": "stdout",
     "output_type": "stream",
     "text": [
      "Best IG:  0.95  with params  (array([218, 482]), array([ 92, 158]), 0, array([211, 374]), -194)\n",
      "new leaf has  5  labels with distribution  [0. 1. 0. 0.] !\n",
      "new leaf has  3  labels with distribution  [0. 0. 1. 0.] !\n",
      "Processing new split node...\n"
     ]
    },
    {
     "name": "stderr",
     "output_type": "stream",
     "text": [
      "100%|██████████| 1000/1000 [00:28<00:00, 35.19it/s]\n"
     ]
    },
    {
     "name": "stdout",
     "output_type": "stream",
     "text": [
      "Best IG:  0.42  with params  (array([259, 443]), array([134, 212]), 2, array([219, 302]), -208)\n",
      "Processing new split node...\n"
     ]
    },
    {
     "name": "stderr",
     "output_type": "stream",
     "text": [
      "100%|██████████| 1000/1000 [00:10<00:00, 92.23it/s]\n"
     ]
    },
    {
     "name": "stdout",
     "output_type": "stream",
     "text": [
      "Best IG:  0.25  with params  (array([249,  27]), array([152,   1]), 1, array([167, 393]), 43)\n",
      "new leaf has  3  labels with distribution  [0. 1. 0. 0.] !\n",
      "Processing new split node...\n"
     ]
    },
    {
     "name": "stderr",
     "output_type": "stream",
     "text": [
      "100%|██████████| 1000/1000 [00:09<00:00, 101.80it/s]\n"
     ]
    },
    {
     "name": "stdout",
     "output_type": "stream",
     "text": [
      "Best IG:  0.19  with params  (array([331, 387]), array([169, 392]), 0, array([  3, 161]), -96)\n",
      "new leaf has  3  labels with distribution  [0. 0. 1. 0.] !\n",
      "Processing new split node...\n"
     ]
    },
    {
     "name": "stderr",
     "output_type": "stream",
     "text": [
      "100%|██████████| 1000/1000 [00:08<00:00, 111.58it/s]\n"
     ]
    },
    {
     "name": "stdout",
     "output_type": "stream",
     "text": [
      "Best IG:  0.13  with params  (array([ 53, 105]), array([192,  63]), 0, array([ 30, 425]), 98)\n",
      "new leaf has  63  labels with distribution  [0. 0. 0. 1.] !\n",
      "new leaf has  4  labels with distribution  [0.  0.  0.5 0.5] !\n",
      "Processing new split node...\n"
     ]
    },
    {
     "name": "stderr",
     "output_type": "stream",
     "text": [
      "100%|██████████| 1000/1000 [00:18<00:00, 54.24it/s]\n"
     ]
    },
    {
     "name": "stdout",
     "output_type": "stream",
     "text": [
      "Best IG:  0.35  with params  (array([168, 297]), array([ 88, 374]), 0, array([124, 302]), 234)\n",
      "Processing new split node...\n"
     ]
    },
    {
     "name": "stderr",
     "output_type": "stream",
     "text": [
      "100%|██████████| 1000/1000 [00:12<00:00, 79.26it/s]\n"
     ]
    },
    {
     "name": "stdout",
     "output_type": "stream",
     "text": [
      "Best IG:  0.34  with params  (array([194, 393]), array([227, 293]), 0, array([12, 87]), 123)\n",
      "new leaf has  9  labels with distribution  [0. 1. 0. 0.] !\n",
      "Processing new split node...\n"
     ]
    },
    {
     "name": "stderr",
     "output_type": "stream",
     "text": [
      "100%|██████████| 1000/1000 [00:10<00:00, 91.89it/s]\n"
     ]
    },
    {
     "name": "stdout",
     "output_type": "stream",
     "text": [
      "Best IG:  0.17  with params  (array([ 83, 173]), array([173, 215]), 0, array([348, 397]), 25)\n",
      "Processing new split node...\n"
     ]
    },
    {
     "name": "stderr",
     "output_type": "stream",
     "text": [
      "100%|██████████| 1000/1000 [00:01<00:00, 502.51it/s]\n"
     ]
    },
    {
     "name": "stdout",
     "output_type": "stream",
     "text": [
      "Best IG:  0.99  with params  (array([128, 224]), array([160, 337]), 1, array([283, 197]), 39)\n",
      "new leaf has  6  labels with distribution  [0.16666667 0.66666667 0.         0.16666667] !\n",
      "new leaf has  5  labels with distribution  [0. 0. 1. 0.] !\n",
      "Processing new split node...\n"
     ]
    },
    {
     "name": "stderr",
     "output_type": "stream",
     "text": [
      "100%|██████████| 1000/1000 [00:09<00:00, 100.61it/s]\n"
     ]
    },
    {
     "name": "stdout",
     "output_type": "stream",
     "text": [
      "Best IG:  0.13  with params  (array([108, 495]), array([280, 140]), 0, array([ 52, 476]), -243)\n",
      "new leaf has  60  labels with distribution  [0.         0.         0.73333333 0.26666667] !\n",
      "new leaf has  11  labels with distribution  [0.18181818 0.         0.81818182 0.        ] !\n",
      "Processing new split node...\n"
     ]
    },
    {
     "name": "stderr",
     "output_type": "stream",
     "text": [
      "100%|██████████| 1000/1000 [00:05<00:00, 172.27it/s]\n"
     ]
    },
    {
     "name": "stdout",
     "output_type": "stream",
     "text": [
      "Best IG:  0.5  with params  (array([256, 343]), array([163, 228]), 2, array([ 28, 173]), -21)\n",
      "Processing new split node...\n"
     ]
    },
    {
     "name": "stderr",
     "output_type": "stream",
     "text": [
      "100%|██████████| 1000/1000 [00:02<00:00, 493.34it/s]\n"
     ]
    },
    {
     "name": "stdout",
     "output_type": "stream",
     "text": [
      "Best IG:  0.32  with params  (array([ 46, 444]), array([324, 494]), 2, array([ 20, 170]), 237)\n",
      "new leaf has  4  labels with distribution  [0.5 0.  0.5 0. ] !\n",
      "new leaf has  8  labels with distribution  [0. 0. 1. 0.] !\n",
      "Processing new split node...\n"
     ]
    },
    {
     "name": "stderr",
     "output_type": "stream",
     "text": [
      "100%|██████████| 1000/1000 [00:04<00:00, 235.74it/s]\n"
     ]
    },
    {
     "name": "stdout",
     "output_type": "stream",
     "text": [
      "Best IG:  0.23  with params  (array([279, 358]), array([86,  2]), 0, array([350,  80]), -112)\n",
      "new leaf has  17  labels with distribution  [1. 0. 0. 0.] !\n",
      "Processing new split node...\n"
     ]
    },
    {
     "name": "stderr",
     "output_type": "stream",
     "text": [
      "100%|██████████| 1000/1000 [00:02<00:00, 408.49it/s]\n"
     ]
    },
    {
     "name": "stdout",
     "output_type": "stream",
     "text": [
      "Best IG:  0.64  with params  (array([168, 442]), array([292, 434]), 1, array([ 73, 134]), -57)\n",
      "new leaf has  4  labels with distribution  [0.   0.   0.25 0.75] !\n",
      "new leaf has  9  labels with distribution  [0.88888889 0.         0.         0.11111111] !\n",
      "TREE NR.  4\n",
      "Processing new split node...\n"
     ]
    },
    {
     "name": "stderr",
     "output_type": "stream",
     "text": [
      "100%|██████████| 1000/1000 [00:43<00:00, 23.04it/s]\n"
     ]
    },
    {
     "name": "stdout",
     "output_type": "stream",
     "text": [
      "Best IG:  0.39  with params  (array([165, 375]), array([ 51, 251]), 0, array([284, 488]), -130)\n",
      "Processing new split node...\n"
     ]
    },
    {
     "name": "stderr",
     "output_type": "stream",
     "text": [
      "100%|██████████| 1000/1000 [00:15<00:00, 64.75it/s]\n"
     ]
    },
    {
     "name": "stdout",
     "output_type": "stream",
     "text": [
      "Best IG:  0.39  with params  (array([101, 382]), array([195, 296]), 1, array([293, 376]), -167)\n",
      "Processing new split node...\n"
     ]
    },
    {
     "name": "stderr",
     "output_type": "stream",
     "text": [
      "100%|██████████| 1000/1000 [00:11<00:00, 87.04it/s]\n"
     ]
    },
    {
     "name": "stdout",
     "output_type": "stream",
     "text": [
      "Best IG:  0.3  with params  (array([62, 62]), array([207,  27]), 1, array([107, 252]), -53)\n",
      "Processing new split node...\n"
     ]
    },
    {
     "name": "stderr",
     "output_type": "stream",
     "text": [
      "100%|██████████| 1000/1000 [00:09<00:00, 101.97it/s]\n"
     ]
    },
    {
     "name": "stdout",
     "output_type": "stream",
     "text": [
      "Best IG:  0.14  with params  (array([ 46, 322]), array([ 84, 470]), 2, array([362, 253]), 188)\n",
      "new leaf has  2  labels with distribution  [0. 0. 0. 1.] !\n",
      "Processing new split node...\n"
     ]
    },
    {
     "name": "stderr",
     "output_type": "stream",
     "text": [
      "100%|██████████| 1000/1000 [00:10<00:00, 93.83it/s]\n"
     ]
    },
    {
     "name": "stdout",
     "output_type": "stream",
     "text": [
      "Best IG:  0.19  with params  (array([274, 283]), array([326,  89]), 2, array([ 26, 330]), -60)\n",
      "new leaf has  2  labels with distribution  [0.  0.5 0.  0.5] !\n",
      "new leaf has  69  labels with distribution  [1. 0. 0. 0.] !\n",
      "Processing new split node...\n"
     ]
    },
    {
     "name": "stderr",
     "output_type": "stream",
     "text": [
      "100%|██████████| 1000/1000 [00:01<00:00, 787.37it/s]\n"
     ]
    },
    {
     "name": "stdout",
     "output_type": "stream",
     "text": [
      "Best IG:  0.92  with params  (array([174, 140]), array([  1, 145]), 0, array([26, 44]), -72)\n",
      "new leaf has  2  labels with distribution  [0. 0. 1. 0.] !\n",
      "new leaf has  4  labels with distribution  [0. 0. 0. 1.] !\n",
      "Processing new split node...\n"
     ]
    },
    {
     "name": "stderr",
     "output_type": "stream",
     "text": [
      "100%|██████████| 1000/1000 [00:05<00:00, 193.76it/s]\n"
     ]
    },
    {
     "name": "stdout",
     "output_type": "stream",
     "text": [
      "Best IG:  0.94  with params  (array([265, 260]), array([117, 427]), 0, array([ 78, 380]), 116)\n",
      "new leaf has  23  labels with distribution  [0. 1. 0. 0.] !\n",
      "Processing new split node...\n"
     ]
    },
    {
     "name": "stderr",
     "output_type": "stream",
     "text": [
      "100%|██████████| 1000/1000 [00:02<00:00, 408.83it/s]\n"
     ]
    },
    {
     "name": "stdout",
     "output_type": "stream",
     "text": [
      "Best IG:  0.39  with params  (array([152, 430]), array([364, 496]), 1, array([ 12, 152]), -211)\n",
      "new leaf has  1  labels with distribution  [0. 0. 1. 0.] !\n",
      "new leaf has  12  labels with distribution  [1. 0. 0. 0.] !\n",
      "Processing new split node...\n"
     ]
    },
    {
     "name": "stderr",
     "output_type": "stream",
     "text": [
      "100%|██████████| 1000/1000 [00:27<00:00, 35.98it/s]\n"
     ]
    },
    {
     "name": "stdout",
     "output_type": "stream",
     "text": [
      "Best IG:  0.49  with params  (array([294, 416]), array([231, 231]), 0, array([ 47, 305]), -138)\n",
      "Processing new split node...\n"
     ]
    },
    {
     "name": "stderr",
     "output_type": "stream",
     "text": [
      "100%|██████████| 1000/1000 [00:06<00:00, 160.05it/s]\n"
     ]
    },
    {
     "name": "stdout",
     "output_type": "stream",
     "text": [
      "Best IG:  0.36  with params  (array([293, 488]), array([113, 264]), 1, array([  9, 420]), -233)\n",
      "new leaf has  38  labels with distribution  [0. 1. 0. 0.] !\n",
      "Processing new split node...\n"
     ]
    },
    {
     "name": "stderr",
     "output_type": "stream",
     "text": [
      "100%|██████████| 1000/1000 [00:01<00:00, 813.01it/s]\n"
     ]
    },
    {
     "name": "stdout",
     "output_type": "stream",
     "text": [
      "Best IG:  0.72  with params  (array([136, 167]), array([270, 216]), 0, array([159, 492]), 123)\n",
      "new leaf has  4  labels with distribution  [1. 0. 0. 0.] !\n",
      "new leaf has  1  labels with distribution  [0. 1. 0. 0.] !\n",
      "Processing new split node...\n"
     ]
    },
    {
     "name": "stderr",
     "output_type": "stream",
     "text": [
      "100%|██████████| 1000/1000 [00:22<00:00, 45.02it/s]\n"
     ]
    },
    {
     "name": "stdout",
     "output_type": "stream",
     "text": [
      "Best IG:  0.33  with params  (array([302, 277]), array([ 91, 395]), 2, array([ 72, 350]), 203)\n",
      "Processing new split node...\n"
     ]
    },
    {
     "name": "stderr",
     "output_type": "stream",
     "text": [
      "100%|██████████| 1000/1000 [00:10<00:00, 94.90it/s]\n"
     ]
    },
    {
     "name": "stdout",
     "output_type": "stream",
     "text": [
      "Best IG:  0.22  with params  (array([289, 189]), array([356, 263]), 1, array([241, 143]), 146)\n",
      "Processing new split node...\n"
     ]
    },
    {
     "name": "stderr",
     "output_type": "stream",
     "text": [
      "100%|██████████| 1000/1000 [00:03<00:00, 305.90it/s]\n"
     ]
    },
    {
     "name": "stdout",
     "output_type": "stream",
     "text": [
      "Best IG:  0.43  with params  (array([ 70, 371]), array([277, 394]), 0, array([ 92, 317]), -103)\n",
      "new leaf has  5  labels with distribution  [0. 1. 0. 0.] !\n",
      "Processing new split node...\n"
     ]
    },
    {
     "name": "stderr",
     "output_type": "stream",
     "text": [
      "100%|██████████| 1000/1000 [00:02<00:00, 380.23it/s]\n"
     ]
    },
    {
     "name": "stdout",
     "output_type": "stream",
     "text": [
      "Best IG:  0.36  with params  (array([201, 256]), array([83, 92]), 0, array([247,   4]), -166)\n",
      "new leaf has  2  labels with distribution  [0. 1. 0. 0.] !\n",
      "new leaf has  15  labels with distribution  [0.         0.06666667 0.86666667 0.06666667] !\n",
      "Processing new split node...\n"
     ]
    },
    {
     "name": "stderr",
     "output_type": "stream",
     "text": [
      "100%|██████████| 1000/1000 [00:07<00:00, 140.67it/s]\n"
     ]
    },
    {
     "name": "stdout",
     "output_type": "stream",
     "text": [
      "Best IG:  0.25  with params  (array([181, 316]), array([193, 187]), 2, array([334, 424]), -154)\n",
      "Processing new split node...\n"
     ]
    },
    {
     "name": "stderr",
     "output_type": "stream",
     "text": [
      "100%|██████████| 1000/1000 [00:02<00:00, 418.06it/s]\n"
     ]
    },
    {
     "name": "stdout",
     "output_type": "stream",
     "text": [
      "Best IG:  0.47  with params  (array([294, 428]), array([ 30, 243]), 2, array([31, 32]), -57)\n",
      "new leaf has  4  labels with distribution  [0. 0. 0. 1.] !\n",
      "new leaf has  11  labels with distribution  [0.         0.         0.81818182 0.18181818] !\n",
      "Processing new split node...\n"
     ]
    },
    {
     "name": "stderr",
     "output_type": "stream",
     "text": [
      "100%|██████████| 1000/1000 [00:05<00:00, 187.51it/s]\n"
     ]
    },
    {
     "name": "stdout",
     "output_type": "stream",
     "text": [
      "Best IG:  0.13  with params  (array([ 20, 371]), array([356,  69]), 1, array([272, 300]), 81)\n",
      "new leaf has  8  labels with distribution  [0.25 0.   0.75 0.  ] !\n",
      "new leaf has  30  labels with distribution  [0. 0. 1. 0.] !\n",
      "Processing new split node...\n"
     ]
    },
    {
     "name": "stderr",
     "output_type": "stream",
     "text": [
      "100%|██████████| 1000/1000 [00:12<00:00, 82.99it/s]\n"
     ]
    },
    {
     "name": "stdout",
     "output_type": "stream",
     "text": [
      "Best IG:  0.29  with params  (array([182, 495]), array([  5, 107]), 2, array([165, 488]), -219)\n",
      "Processing new split node...\n"
     ]
    },
    {
     "name": "stderr",
     "output_type": "stream",
     "text": [
      "100%|██████████| 1000/1000 [00:09<00:00, 106.42it/s]\n"
     ]
    },
    {
     "name": "stdout",
     "output_type": "stream",
     "text": [
      "Best IG:  0.33  with params  (array([298,   7]), array([197, 254]), 2, array([ 98, 419]), 23)\n",
      "Processing new split node...\n"
     ]
    },
    {
     "name": "stderr",
     "output_type": "stream",
     "text": [
      "100%|██████████| 1000/1000 [00:02<00:00, 393.55it/s]\n"
     ]
    },
    {
     "name": "stdout",
     "output_type": "stream",
     "text": [
      "Best IG:  0.85  with params  (array([205,  91]), array([  1, 397]), 1, array([261, 152]), 39)\n",
      "new leaf has  8  labels with distribution  [0.    0.    0.875 0.125] !\n",
      "new leaf has  3  labels with distribution  [0. 1. 0. 0.] !\n",
      "Processing new split node...\n"
     ]
    },
    {
     "name": "stderr",
     "output_type": "stream",
     "text": [
      "100%|██████████| 1000/1000 [00:08<00:00, 122.87it/s]\n"
     ]
    },
    {
     "name": "stdout",
     "output_type": "stream",
     "text": [
      "Best IG:  0.25  with params  (array([164,  13]), array([218, 107]), 0, array([247, 113]), 31)\n",
      "new leaf has  52  labels with distribution  [0.         0.         0.01923077 0.98076923] !\n",
      "new leaf has  5  labels with distribution  [0.  0.2 0.6 0.2] !\n",
      "Processing new split node...\n"
     ]
    },
    {
     "name": "stderr",
     "output_type": "stream",
     "text": [
      "100%|██████████| 1000/1000 [00:03<00:00, 322.27it/s]\n"
     ]
    },
    {
     "name": "stdout",
     "output_type": "stream",
     "text": [
      "Best IG:  0.56  with params  (array([248, 342]), array([156, 166]), 1, array([229, 371]), -151)\n",
      "new leaf has  6  labels with distribution  [1. 0. 0. 0.] !\n",
      "Processing new split node...\n"
     ]
    },
    {
     "name": "stderr",
     "output_type": "stream",
     "text": [
      "100%|██████████| 1000/1000 [00:02<00:00, 431.41it/s]\n"
     ]
    },
    {
     "name": "stdout",
     "output_type": "stream",
     "text": [
      "Best IG:  0.7  with params  (array([234,  73]), array([192, 138]), 2, array([ 84, 443]), -14)\n",
      "new leaf has  7  labels with distribution  [0.28571429 0.         0.71428571 0.        ] !\n",
      "new leaf has  6  labels with distribution  [0.         0.         0.16666667 0.83333333] !\n"
     ]
    }
   ],
   "source": [
    "forest2 = Forest(4, 5, X_train_integral, Y_train, \n",
    "                    tree_param = {'depth': 5,\n",
    "                        # 'random_color_values': 10, # still unnecessary\n",
    "                        # 'num_pixel_locations': 1000,\n",
    "                        # 'num_patch_sizes': 5,\n",
    "                        # 'num_thresholds': 20,\n",
    "                        'minimum_samples_at_leaf': 5, #  was not specified in task, so I chose it\n",
    "                        },\n",
    "                        bagging_fraction=0.8,\n",
    "                        mode = 'train')\n",
    "\n",
    "forest2.train()"
   ]
  },
  {
   "cell_type": "code",
   "execution_count": 10,
   "metadata": {},
   "outputs": [
    {
     "name": "stdout",
     "output_type": "stream",
     "text": [
      "Evaluating second forest\n",
      "Accuracy on test set:  0.95\n",
      "Confusion Matrix:\n",
      "[[10  0  0  0]\n",
      " [ 0 10  0  0]\n",
      " [ 0  0  9  1]\n",
      " [ 0  0  1  9]]\n"
     ]
    }
   ],
   "source": [
    "# evaluate on test data\n",
    "\n",
    "print(\"Evaluating second forest\")\n",
    "evaluate_forest(forest2)"
   ]
  }
 ],
 "metadata": {
  "kernelspec": {
   "display_name": "Python 3",
   "language": "python",
   "name": "python3"
  },
  "language_info": {
   "codemirror_mode": {
    "name": "ipython",
    "version": 3
   },
   "file_extension": ".py",
   "mimetype": "text/x-python",
   "name": "python",
   "nbconvert_exporter": "python",
   "pygments_lexer": "ipython3",
   "version": "3.10.8"
  },
  "orig_nbformat": 4,
  "vscode": {
   "interpreter": {
    "hash": "3e685d26dd8fd36712c73663d5eed3f729000b59effe05b6fb9ee1635a044bbe"
   }
  }
 },
 "nbformat": 4,
 "nbformat_minor": 2
}
